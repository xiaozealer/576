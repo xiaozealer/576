{
 "cells": [
  {
   "cell_type": "markdown",
   "metadata": {},
   "source": [
    "# HW0 Report"
   ]
  },
  {
   "cell_type": "markdown",
   "metadata": {},
   "source": [
    "## Task 1"
   ]
  },
  {
   "cell_type": "code",
   "execution_count": 2,
   "metadata": {},
   "outputs": [
    {
     "name": "stdout",
     "output_type": "stream",
     "text": [
      "\n",
      "     active environment : None\n",
      "       user config file : /home/zealer/.condarc\n",
      " populated config files : \n",
      "          conda version : 23.7.3\n",
      "    conda-build version : not installed\n",
      "         python version : 3.11.4.final.0\n",
      "       virtual packages : __archspec=1=x86_64\n",
      "                          __cuda=12.2=0\n",
      "                          __glibc=2.35=0\n",
      "                          __linux=5.15.90.1=0\n",
      "                          __unix=0=0\n",
      "       base environment : /home/zealer/miniconda3  (writable)\n",
      "      conda av data dir : /home/zealer/miniconda3/etc/conda\n",
      "  conda av metadata url : None\n",
      "           channel URLs : https://repo.anaconda.com/pkgs/main/linux-64\n",
      "                          https://repo.anaconda.com/pkgs/main/noarch\n",
      "                          https://repo.anaconda.com/pkgs/r/linux-64\n",
      "                          https://repo.anaconda.com/pkgs/r/noarch\n",
      "          package cache : /home/zealer/miniconda3/pkgs\n",
      "                          /home/zealer/.conda/pkgs\n",
      "       envs directories : /home/zealer/miniconda3/envs\n",
      "                          /home/zealer/.conda/envs\n",
      "               platform : linux-64\n",
      "             user-agent : conda/23.7.3 requests/2.29.0 CPython/3.11.4 Linux/5.15.90.1-microsoft-standard-WSL2 ubuntu/22.04.1 glibc/2.35\n",
      "                UID:GID : 1000:1000\n",
      "             netrc file : None\n",
      "           offline mode : False\n",
      "\n",
      "\n"
     ]
    }
   ],
   "source": [
    "! conda info"
   ]
  },
  {
   "cell_type": "markdown",
   "metadata": {},
   "source": [
    "## Task 2"
   ]
  },
  {
   "cell_type": "code",
   "execution_count": 3,
   "metadata": {},
   "outputs": [],
   "source": [
    "import numpy as np\n",
    "import scipy.linalg"
   ]
  },
  {
   "cell_type": "code",
   "execution_count": 4,
   "metadata": {},
   "outputs": [],
   "source": [
    "a = np.random.randint(1, 5, (5, 5))"
   ]
  },
  {
   "cell_type": "code",
   "execution_count": 5,
   "metadata": {},
   "outputs": [
    {
     "data": {
      "text/plain": [
       "2"
      ]
     },
     "execution_count": 5,
     "metadata": {},
     "output_type": "execute_result"
    }
   ],
   "source": [
    "np.ndim(a)"
   ]
  },
  {
   "cell_type": "code",
   "execution_count": 6,
   "metadata": {},
   "outputs": [
    {
     "data": {
      "text/plain": [
       "25"
      ]
     },
     "execution_count": 6,
     "metadata": {},
     "output_type": "execute_result"
    }
   ],
   "source": [
    "a.size"
   ]
  },
  {
   "cell_type": "code",
   "execution_count": 7,
   "metadata": {},
   "outputs": [
    {
     "data": {
      "text/plain": [
       "(5, 5)"
      ]
     },
     "execution_count": 7,
     "metadata": {},
     "output_type": "execute_result"
    }
   ],
   "source": [
    "a.shape "
   ]
  },
  {
   "cell_type": "code",
   "execution_count": 8,
   "metadata": {},
   "outputs": [
    {
     "data": {
      "text/plain": [
       "5"
      ]
     },
     "execution_count": 8,
     "metadata": {},
     "output_type": "execute_result"
    }
   ],
   "source": [
    "a.shape[1]"
   ]
  },
  {
   "cell_type": "code",
   "execution_count": 9,
   "metadata": {},
   "outputs": [
    {
     "data": {
      "text/plain": [
       "array([[1., 2., 3.],\n",
       "       [4., 5., 6.]])"
      ]
     },
     "execution_count": 9,
     "metadata": {},
     "output_type": "execute_result"
    }
   ],
   "source": [
    "np.array([[1.,2.,3.], [4.,5.,6.]])"
   ]
  },
  {
   "cell_type": "code",
   "execution_count": 10,
   "metadata": {},
   "outputs": [
    {
     "data": {
      "text/plain": [
       "array([[4, 2, 3, 1, 3, 3, 3, 3, 3, 2],\n",
       "       [3, 1, 2, 1, 1, 3, 1, 4, 1, 2],\n",
       "       [4, 3, 2, 4, 1, 2, 2, 2, 2, 4],\n",
       "       [4, 1, 3, 3, 3, 1, 1, 2, 4, 1],\n",
       "       [1, 2, 1, 3, 1, 1, 1, 3, 4, 3],\n",
       "       [3, 3, 1, 3, 4, 3, 4, 2, 2, 2],\n",
       "       [2, 2, 4, 4, 4, 4, 2, 4, 1, 3],\n",
       "       [2, 1, 3, 4, 3, 2, 1, 3, 4, 3],\n",
       "       [2, 4, 2, 2, 2, 2, 2, 3, 1, 2],\n",
       "       [3, 2, 2, 1, 4, 2, 4, 2, 4, 1]])"
      ]
     },
     "execution_count": 10,
     "metadata": {},
     "output_type": "execute_result"
    }
   ],
   "source": [
    "b = np.random.randint(1, 5, (5, 5))\n",
    "c = np.random.randint(1, 5, (5, 5))\n",
    "d = np.random.randint(1, 5, (5, 5))\n",
    "np.block([[a,b], [c,d]])"
   ]
  },
  {
   "cell_type": "code",
   "execution_count": 11,
   "metadata": {},
   "outputs": [
    {
     "data": {
      "text/plain": [
       "array([1, 2, 1, 3, 1])"
      ]
     },
     "execution_count": 11,
     "metadata": {},
     "output_type": "execute_result"
    }
   ],
   "source": [
    "a[-1]"
   ]
  },
  {
   "cell_type": "code",
   "execution_count": 12,
   "metadata": {},
   "outputs": [
    {
     "data": {
      "text/plain": [
       "1"
      ]
     },
     "execution_count": 12,
     "metadata": {},
     "output_type": "execute_result"
    }
   ],
   "source": [
    "a[1,4]"
   ]
  },
  {
   "cell_type": "code",
   "execution_count": 13,
   "metadata": {},
   "outputs": [
    {
     "data": {
      "text/plain": [
       "array([3, 1, 2, 1, 1])"
      ]
     },
     "execution_count": 13,
     "metadata": {},
     "output_type": "execute_result"
    }
   ],
   "source": [
    "a[1]"
   ]
  },
  {
   "cell_type": "code",
   "execution_count": 14,
   "metadata": {},
   "outputs": [
    {
     "name": "stdout",
     "output_type": "stream",
     "text": [
      "[[4 2 3 1 3]\n",
      " [3 1 2 1 1]\n",
      " [4 3 2 4 1]\n",
      " [4 1 3 3 3]\n",
      " [1 2 1 3 1]]\n",
      "[[4 2 3 1 3]\n",
      " [3 1 2 1 1]\n",
      " [4 3 2 4 1]\n",
      " [4 1 3 3 3]\n",
      " [1 2 1 3 1]]\n",
      "[[4 2 3 1 3]\n",
      " [3 1 2 1 1]\n",
      " [4 3 2 4 1]\n",
      " [4 1 3 3 3]\n",
      " [1 2 1 3 1]]\n"
     ]
    }
   ],
   "source": [
    "print(a[0:5])\n",
    "print(a[:5])\n",
    "print(a[0:5,:])"
   ]
  },
  {
   "cell_type": "code",
   "execution_count": 15,
   "metadata": {},
   "outputs": [
    {
     "data": {
      "text/plain": [
       "array([[4, 2, 3, 1, 3],\n",
       "       [3, 1, 2, 1, 1],\n",
       "       [4, 3, 2, 4, 1],\n",
       "       [4, 1, 3, 3, 3],\n",
       "       [1, 2, 1, 3, 1]])"
      ]
     },
     "execution_count": 15,
     "metadata": {},
     "output_type": "execute_result"
    }
   ],
   "source": [
    "a[-5:]"
   ]
  },
  {
   "cell_type": "code",
   "execution_count": 16,
   "metadata": {},
   "outputs": [
    {
     "data": {
      "text/plain": [
       "array([[3],\n",
       "       [1],\n",
       "       [1]])"
      ]
     },
     "execution_count": 16,
     "metadata": {},
     "output_type": "execute_result"
    }
   ],
   "source": [
    "a[0:3,4:9]"
   ]
  },
  {
   "cell_type": "code",
   "execution_count": 17,
   "metadata": {},
   "outputs": [
    {
     "data": {
      "text/plain": [
       "array([[3, 2],\n",
       "       [4, 3]])"
      ]
     },
     "execution_count": 17,
     "metadata": {},
     "output_type": "execute_result"
    }
   ],
   "source": [
    "a[np.ix_([1,3],[0,2])]"
   ]
  },
  {
   "cell_type": "code",
   "execution_count": 18,
   "metadata": {},
   "outputs": [
    {
     "data": {
      "text/plain": [
       "array([[4, 3, 2, 4, 1],\n",
       "       [1, 2, 1, 3, 1]])"
      ]
     },
     "execution_count": 18,
     "metadata": {},
     "output_type": "execute_result"
    }
   ],
   "source": [
    "a[ 2:5:2,:]"
   ]
  },
  {
   "cell_type": "code",
   "execution_count": 19,
   "metadata": {},
   "outputs": [
    {
     "data": {
      "text/plain": [
       "array([[4, 2, 3, 1, 3],\n",
       "       [4, 3, 2, 4, 1],\n",
       "       [1, 2, 1, 3, 1]])"
      ]
     },
     "execution_count": 19,
     "metadata": {},
     "output_type": "execute_result"
    }
   ],
   "source": [
    "a[ ::2,:]"
   ]
  },
  {
   "cell_type": "code",
   "execution_count": 20,
   "metadata": {},
   "outputs": [
    {
     "data": {
      "text/plain": [
       "array([[1, 2, 1, 3, 1],\n",
       "       [4, 1, 3, 3, 3],\n",
       "       [4, 3, 2, 4, 1],\n",
       "       [3, 1, 2, 1, 1],\n",
       "       [4, 2, 3, 1, 3]])"
      ]
     },
     "execution_count": 20,
     "metadata": {},
     "output_type": "execute_result"
    }
   ],
   "source": [
    "a[ ::-1,:]"
   ]
  },
  {
   "cell_type": "code",
   "execution_count": 21,
   "metadata": {},
   "outputs": [
    {
     "data": {
      "text/plain": [
       "array([4, 3, 4, 4, 1])"
      ]
     },
     "execution_count": 21,
     "metadata": {},
     "output_type": "execute_result"
    }
   ],
   "source": [
    "a[:len(a),0]"
   ]
  },
  {
   "cell_type": "code",
   "execution_count": 22,
   "metadata": {},
   "outputs": [
    {
     "data": {
      "text/plain": [
       "array([[4, 2, 3, 1, 3],\n",
       "       [3, 1, 2, 1, 1],\n",
       "       [4, 3, 2, 4, 1],\n",
       "       [4, 1, 3, 3, 3],\n",
       "       [1, 2, 1, 3, 1],\n",
       "       [4, 2, 3, 1, 3]])"
      ]
     },
     "execution_count": 22,
     "metadata": {},
     "output_type": "execute_result"
    }
   ],
   "source": [
    "a[np.r_[:len(a),0]]"
   ]
  },
  {
   "cell_type": "code",
   "execution_count": 23,
   "metadata": {},
   "outputs": [
    {
     "data": {
      "text/plain": [
       "array([[4, 3, 4, 4, 1],\n",
       "       [2, 1, 3, 1, 2],\n",
       "       [3, 2, 2, 3, 1],\n",
       "       [1, 1, 4, 3, 3],\n",
       "       [3, 1, 1, 3, 1]])"
      ]
     },
     "execution_count": 23,
     "metadata": {},
     "output_type": "execute_result"
    }
   ],
   "source": [
    "a.transpose() "
   ]
  },
  {
   "cell_type": "code",
   "execution_count": 24,
   "metadata": {},
   "outputs": [
    {
     "data": {
      "text/plain": [
       "array([[4, 3, 4, 4, 1],\n",
       "       [2, 1, 3, 1, 2],\n",
       "       [3, 2, 2, 3, 1],\n",
       "       [1, 1, 4, 3, 3],\n",
       "       [3, 1, 1, 3, 1]])"
      ]
     },
     "execution_count": 24,
     "metadata": {},
     "output_type": "execute_result"
    }
   ],
   "source": [
    "a.conj().transpose()"
   ]
  },
  {
   "cell_type": "code",
   "execution_count": 25,
   "metadata": {},
   "outputs": [
    {
     "data": {
      "text/plain": [
       "array([[28, 24, 37, 36, 34],\n",
       "       [18, 16, 22, 22, 20],\n",
       "       [30, 24, 39, 39, 29],\n",
       "       [27, 25, 37, 43, 34],\n",
       "       [15, 11, 22, 23, 16]])"
      ]
     },
     "execution_count": 25,
     "metadata": {},
     "output_type": "execute_result"
    }
   ],
   "source": [
    "a @ b"
   ]
  },
  {
   "cell_type": "code",
   "execution_count": 26,
   "metadata": {},
   "outputs": [
    {
     "data": {
      "text/plain": [
       "array([[12,  6,  9,  3,  6],\n",
       "       [ 9,  1,  8,  1,  2],\n",
       "       [ 8,  6,  4,  8,  4],\n",
       "       [ 4,  1,  6, 12,  3],\n",
       "       [ 1,  2,  3, 12,  3]])"
      ]
     },
     "execution_count": 26,
     "metadata": {},
     "output_type": "execute_result"
    }
   ],
   "source": [
    "a * b"
   ]
  },
  {
   "cell_type": "code",
   "execution_count": 27,
   "metadata": {},
   "outputs": [
    {
     "data": {
      "text/plain": [
       "array([[1.33333333, 0.66666667, 1.        , 0.33333333, 1.5       ],\n",
       "       [1.        , 1.        , 0.5       , 1.        , 0.5       ],\n",
       "       [2.        , 1.5       , 1.        , 2.        , 0.25      ],\n",
       "       [4.        , 1.        , 1.5       , 0.75      , 3.        ],\n",
       "       [1.        , 2.        , 0.33333333, 0.75      , 0.33333333]])"
      ]
     },
     "execution_count": 27,
     "metadata": {},
     "output_type": "execute_result"
    }
   ],
   "source": [
    "a / b"
   ]
  },
  {
   "cell_type": "code",
   "execution_count": 28,
   "metadata": {},
   "outputs": [
    {
     "data": {
      "text/plain": [
       "array([[64,  8, 27,  1, 27],\n",
       "       [27,  1,  8,  1,  1],\n",
       "       [64, 27,  8, 64,  1],\n",
       "       [64,  1, 27, 27, 27],\n",
       "       [ 1,  8,  1, 27,  1]])"
      ]
     },
     "execution_count": 28,
     "metadata": {},
     "output_type": "execute_result"
    }
   ],
   "source": [
    "a ** 3"
   ]
  },
  {
   "cell_type": "code",
   "execution_count": 29,
   "metadata": {},
   "outputs": [
    {
     "data": {
      "text/plain": [
       "array([[ True,  True,  True,  True,  True],\n",
       "       [ True,  True,  True,  True,  True],\n",
       "       [ True,  True,  True,  True,  True],\n",
       "       [ True,  True,  True,  True,  True],\n",
       "       [ True,  True,  True,  True,  True]])"
      ]
     },
     "execution_count": 29,
     "metadata": {},
     "output_type": "execute_result"
    }
   ],
   "source": [
    "a > 0.5"
   ]
  },
  {
   "cell_type": "code",
   "execution_count": 30,
   "metadata": {},
   "outputs": [
    {
     "data": {
      "text/plain": [
       "(array([0, 0, 0, 0, 0, 1, 1, 1, 1, 1, 2, 2, 2, 2, 2, 3, 3, 3, 3, 3, 4, 4,\n",
       "        4, 4, 4]),\n",
       " array([0, 1, 2, 3, 4, 0, 1, 2, 3, 4, 0, 1, 2, 3, 4, 0, 1, 2, 3, 4, 0, 1,\n",
       "        2, 3, 4]))"
      ]
     },
     "execution_count": 30,
     "metadata": {},
     "output_type": "execute_result"
    }
   ],
   "source": [
    "np.nonzero(a>0.5)"
   ]
  },
  {
   "cell_type": "code",
   "execution_count": 31,
   "metadata": {},
   "outputs": [
    {
     "data": {
      "text/plain": [
       "array([[4, 4, 4, 2, 2],\n",
       "       [3, 3, 3, 1, 1],\n",
       "       [4, 4, 4, 3, 3],\n",
       "       [4, 4, 4, 1, 1],\n",
       "       [1, 1, 1, 2, 2]])"
      ]
     },
     "execution_count": 31,
     "metadata": {},
     "output_type": "execute_result"
    }
   ],
   "source": [
    "v = np.random.randint(5, size=(2, 4))\n",
    "a[:,np.nonzero(v>0.5)[0]]"
   ]
  },
  {
   "cell_type": "code",
   "execution_count": 109,
   "metadata": {},
   "outputs": [
    {
     "name": "stdout",
     "output_type": "stream",
     "text": [
      "[[3 3 3 3 3]\n",
      " [3 3 3 3 3]\n",
      " [3 3 3 3 3]\n",
      " [3 3 3 3 3]\n",
      " [3 3 3 3 3]]\n"
     ]
    }
   ],
   "source": [
    "a[a<0.5]=0\n",
    "print(a)"
   ]
  },
  {
   "cell_type": "code",
   "execution_count": 110,
   "metadata": {},
   "outputs": [
    {
     "data": {
      "text/plain": [
       "array([[3, 3, 3, 3, 3],\n",
       "       [3, 3, 3, 3, 3],\n",
       "       [3, 3, 3, 3, 3],\n",
       "       [3, 3, 3, 3, 3],\n",
       "       [3, 3, 3, 3, 3]])"
      ]
     },
     "execution_count": 110,
     "metadata": {},
     "output_type": "execute_result"
    }
   ],
   "source": [
    "a * (a>0.5)"
   ]
  },
  {
   "cell_type": "code",
   "execution_count": 111,
   "metadata": {},
   "outputs": [
    {
     "name": "stdout",
     "output_type": "stream",
     "text": [
      "[[3 3 3 3 3]\n",
      " [3 3 3 3 3]\n",
      " [3 3 3 3 3]\n",
      " [3 3 3 3 3]\n",
      " [3 3 3 3 3]]\n"
     ]
    }
   ],
   "source": [
    "a[:] = 3\n",
    "print(a)"
   ]
  },
  {
   "cell_type": "code",
   "execution_count": 112,
   "metadata": {},
   "outputs": [
    {
     "name": "stdout",
     "output_type": "stream",
     "text": [
      "[[3 3 3 3 3]\n",
      " [3 3 3 3 3]\n",
      " [3 3 3 3 3]\n",
      " [3 3 3 3 3]\n",
      " [3 3 3 3 3]]\n"
     ]
    }
   ],
   "source": [
    "y = a.copy()\n",
    "print(y)"
   ]
  },
  {
   "cell_type": "code",
   "execution_count": 113,
   "metadata": {},
   "outputs": [
    {
     "name": "stdout",
     "output_type": "stream",
     "text": [
      "[3 3 3 3 3]\n"
     ]
    }
   ],
   "source": [
    "y = a[1,:].copy()\n",
    "print(y)"
   ]
  },
  {
   "cell_type": "code",
   "execution_count": 114,
   "metadata": {},
   "outputs": [
    {
     "name": "stdout",
     "output_type": "stream",
     "text": [
      "[3 3 3 3 3 3 3 3 3 3 3 3 3 3 3 3 3 3 3 3 3 3 3 3 3]\n"
     ]
    }
   ],
   "source": [
    "y = a.flatten()\n",
    "print(y)"
   ]
  },
  {
   "cell_type": "code",
   "execution_count": 40,
   "metadata": {},
   "outputs": [
    {
     "data": {
      "text/plain": [
       "array([ 1.,  2.,  3.,  4.,  5.,  6.,  7.,  8.,  9., 10.])"
      ]
     },
     "execution_count": 40,
     "metadata": {},
     "output_type": "execute_result"
    }
   ],
   "source": [
    "np.arange(1.,11.)"
   ]
  },
  {
   "cell_type": "code",
   "execution_count": 41,
   "metadata": {},
   "outputs": [
    {
     "data": {
      "text/plain": [
       "array([0., 1., 2., 3., 4., 5., 6., 7., 8., 9.])"
      ]
     },
     "execution_count": 41,
     "metadata": {},
     "output_type": "execute_result"
    }
   ],
   "source": [
    "np.arange(10.)"
   ]
  },
  {
   "cell_type": "code",
   "execution_count": 42,
   "metadata": {},
   "outputs": [
    {
     "data": {
      "text/plain": [
       "array([ 1.,  2.,  3.,  4.,  5.,  6.,  7.,  8.,  9., 10.])"
      ]
     },
     "execution_count": 42,
     "metadata": {},
     "output_type": "execute_result"
    }
   ],
   "source": [
    "np.arange(1.,11.)[:]"
   ]
  },
  {
   "cell_type": "code",
   "execution_count": 43,
   "metadata": {},
   "outputs": [
    {
     "data": {
      "text/plain": [
       "array([[0., 0., 0., 0.],\n",
       "       [0., 0., 0., 0.],\n",
       "       [0., 0., 0., 0.]])"
      ]
     },
     "execution_count": 43,
     "metadata": {},
     "output_type": "execute_result"
    }
   ],
   "source": [
    "np.zeros((3,4))"
   ]
  },
  {
   "cell_type": "code",
   "execution_count": 44,
   "metadata": {},
   "outputs": [
    {
     "data": {
      "text/plain": [
       "array([[1., 1., 1., 1.],\n",
       "       [1., 1., 1., 1.],\n",
       "       [1., 1., 1., 1.]])"
      ]
     },
     "execution_count": 44,
     "metadata": {},
     "output_type": "execute_result"
    }
   ],
   "source": [
    "np.ones((3,4))"
   ]
  },
  {
   "cell_type": "code",
   "execution_count": 45,
   "metadata": {},
   "outputs": [
    {
     "data": {
      "text/plain": [
       "array([[1., 0., 0.],\n",
       "       [0., 1., 0.],\n",
       "       [0., 0., 1.]])"
      ]
     },
     "execution_count": 45,
     "metadata": {},
     "output_type": "execute_result"
    }
   ],
   "source": [
    "np.eye(3)"
   ]
  },
  {
   "cell_type": "code",
   "execution_count": 46,
   "metadata": {},
   "outputs": [
    {
     "data": {
      "text/plain": [
       "array([3, 3, 3, 3, 3])"
      ]
     },
     "execution_count": 46,
     "metadata": {},
     "output_type": "execute_result"
    }
   ],
   "source": [
    "np.diag(a)"
   ]
  },
  {
   "cell_type": "code",
   "execution_count": 117,
   "metadata": {},
   "outputs": [
    {
     "data": {
      "text/plain": [
       "array([0, 1])"
      ]
     },
     "execution_count": 117,
     "metadata": {},
     "output_type": "execute_result"
    }
   ],
   "source": [
    "np.diag(v, 0)"
   ]
  },
  {
   "cell_type": "code",
   "execution_count": 48,
   "metadata": {},
   "outputs": [
    {
     "data": {
      "text/plain": [
       "array([[0.79781805, 0.31183134, 0.96870775, 0.81317329],\n",
       "       [0.82896719, 0.18729088, 0.38960244, 0.819809  ],\n",
       "       [0.60032037, 0.36841622, 0.84258099, 0.17148099]])"
      ]
     },
     "execution_count": 48,
     "metadata": {},
     "output_type": "execute_result"
    }
   ],
   "source": [
    "np.random.rand(3,4)"
   ]
  },
  {
   "cell_type": "code",
   "execution_count": 49,
   "metadata": {},
   "outputs": [
    {
     "data": {
      "text/plain": [
       "array([1.        , 1.66666667, 2.33333333, 3.        ])"
      ]
     },
     "execution_count": 49,
     "metadata": {},
     "output_type": "execute_result"
    }
   ],
   "source": [
    "np.linspace(1,3,4)"
   ]
  },
  {
   "cell_type": "code",
   "execution_count": 50,
   "metadata": {},
   "outputs": [
    {
     "data": {
      "text/plain": [
       "array([[[0., 0., 0., 0., 0., 0.],\n",
       "        [1., 1., 1., 1., 1., 1.],\n",
       "        [2., 2., 2., 2., 2., 2.],\n",
       "        [3., 3., 3., 3., 3., 3.],\n",
       "        [4., 4., 4., 4., 4., 4.],\n",
       "        [5., 5., 5., 5., 5., 5.],\n",
       "        [6., 6., 6., 6., 6., 6.],\n",
       "        [7., 7., 7., 7., 7., 7.],\n",
       "        [8., 8., 8., 8., 8., 8.]],\n",
       "\n",
       "       [[0., 1., 2., 3., 4., 5.],\n",
       "        [0., 1., 2., 3., 4., 5.],\n",
       "        [0., 1., 2., 3., 4., 5.],\n",
       "        [0., 1., 2., 3., 4., 5.],\n",
       "        [0., 1., 2., 3., 4., 5.],\n",
       "        [0., 1., 2., 3., 4., 5.],\n",
       "        [0., 1., 2., 3., 4., 5.],\n",
       "        [0., 1., 2., 3., 4., 5.],\n",
       "        [0., 1., 2., 3., 4., 5.]]])"
      ]
     },
     "execution_count": 50,
     "metadata": {},
     "output_type": "execute_result"
    }
   ],
   "source": [
    "np.mgrid[0:9.,0:6.]"
   ]
  },
  {
   "cell_type": "code",
   "execution_count": 51,
   "metadata": {},
   "outputs": [
    {
     "data": {
      "text/plain": [
       "[array([[0.],\n",
       "        [1.],\n",
       "        [2.],\n",
       "        [3.],\n",
       "        [4.],\n",
       "        [5.],\n",
       "        [6.],\n",
       "        [7.],\n",
       "        [8.]]),\n",
       " array([[0., 1., 2., 3., 4., 5.]])]"
      ]
     },
     "execution_count": 51,
     "metadata": {},
     "output_type": "execute_result"
    }
   ],
   "source": [
    "np.ogrid[0:9.,0:6.]"
   ]
  },
  {
   "cell_type": "code",
   "execution_count": 52,
   "metadata": {},
   "outputs": [
    {
     "data": {
      "text/plain": [
       "[array([[1, 2, 4],\n",
       "        [1, 2, 4],\n",
       "        [1, 2, 4]]),\n",
       " array([[2, 2, 2],\n",
       "        [4, 4, 4],\n",
       "        [5, 5, 5]])]"
      ]
     },
     "execution_count": 52,
     "metadata": {},
     "output_type": "execute_result"
    }
   ],
   "source": [
    "np.meshgrid([1,2,4],[2,4,5])"
   ]
  },
  {
   "cell_type": "code",
   "execution_count": 120,
   "metadata": {},
   "outputs": [
    {
     "data": {
      "text/plain": [
       "array([[3, 3, 3, ..., 3, 3, 3],\n",
       "       [3, 3, 3, ..., 3, 3, 3],\n",
       "       [3, 3, 3, ..., 3, 3, 3],\n",
       "       ...,\n",
       "       [3, 3, 3, ..., 3, 3, 3],\n",
       "       [3, 3, 3, ..., 3, 3, 3],\n",
       "       [3, 3, 3, ..., 3, 3, 3]])"
      ]
     },
     "execution_count": 120,
     "metadata": {},
     "output_type": "execute_result"
    }
   ],
   "source": [
    "np.tile(a, (10, 10))"
   ]
  },
  {
   "cell_type": "code",
   "execution_count": 54,
   "metadata": {},
   "outputs": [
    {
     "data": {
      "text/plain": [
       "array([[3, 3, 3, 3, 3, 3, 3, 3, 3, 2],\n",
       "       [3, 3, 3, 3, 3, 3, 1, 4, 1, 2],\n",
       "       [3, 3, 3, 3, 3, 2, 2, 2, 2, 4],\n",
       "       [3, 3, 3, 3, 3, 1, 1, 2, 4, 1],\n",
       "       [3, 3, 3, 3, 3, 1, 1, 3, 4, 3]])"
      ]
     },
     "execution_count": 54,
     "metadata": {},
     "output_type": "execute_result"
    }
   ],
   "source": [
    "np.concatenate((a,b),1)\n",
    "np.hstack((a,b))\n",
    "np.column_stack((a,b))"
   ]
  },
  {
   "cell_type": "code",
   "execution_count": 55,
   "metadata": {},
   "outputs": [
    {
     "data": {
      "text/plain": [
       "3"
      ]
     },
     "execution_count": 55,
     "metadata": {},
     "output_type": "execute_result"
    }
   ],
   "source": [
    "a.max()"
   ]
  },
  {
   "cell_type": "code",
   "execution_count": 56,
   "metadata": {},
   "outputs": [
    {
     "data": {
      "text/plain": [
       "array([3, 3, 3, 3, 3])"
      ]
     },
     "execution_count": 56,
     "metadata": {},
     "output_type": "execute_result"
    }
   ],
   "source": [
    "a.max(0)"
   ]
  },
  {
   "cell_type": "code",
   "execution_count": 57,
   "metadata": {},
   "outputs": [
    {
     "data": {
      "text/plain": [
       "array([[3, 3, 3, 3, 3],\n",
       "       [3, 3, 4, 3, 3],\n",
       "       [3, 3, 3, 3, 4],\n",
       "       [3, 3, 3, 4, 3],\n",
       "       [3, 3, 3, 4, 3]])"
      ]
     },
     "execution_count": 57,
     "metadata": {},
     "output_type": "execute_result"
    }
   ],
   "source": [
    "np.maximum(a, b)"
   ]
  },
  {
   "cell_type": "code",
   "execution_count": 79,
   "metadata": {},
   "outputs": [
    {
     "data": {
      "text/plain": [
       "4.898979485566356"
      ]
     },
     "execution_count": 79,
     "metadata": {},
     "output_type": "execute_result"
    }
   ],
   "source": [
    "np.linalg.norm(v)"
   ]
  },
  {
   "cell_type": "code",
   "execution_count": 59,
   "metadata": {},
   "outputs": [
    {
     "data": {
      "text/plain": [
       "array([[ True,  True,  True,  True,  True],\n",
       "       [ True,  True,  True,  True,  True],\n",
       "       [ True,  True,  True,  True,  True],\n",
       "       [ True,  True,  True,  True,  True],\n",
       "       [ True,  True,  True,  True,  True]])"
      ]
     },
     "execution_count": 59,
     "metadata": {},
     "output_type": "execute_result"
    }
   ],
   "source": [
    "np.logical_and(a,b)"
   ]
  },
  {
   "cell_type": "code",
   "execution_count": 121,
   "metadata": {},
   "outputs": [
    {
     "data": {
      "text/plain": [
       "array([[ True,  True,  True,  True,  True],\n",
       "       [ True,  True,  True,  True,  True],\n",
       "       [ True,  True,  True,  True,  True],\n",
       "       [ True,  True,  True,  True,  True],\n",
       "       [ True,  True,  True,  True,  True]])"
      ]
     },
     "execution_count": 121,
     "metadata": {},
     "output_type": "execute_result"
    }
   ],
   "source": [
    "np.logical_or(a,b)"
   ]
  },
  {
   "cell_type": "code",
   "execution_count": 60,
   "metadata": {},
   "outputs": [
    {
     "data": {
      "text/plain": [
       "array([[3, 3, 3, 3, 2],\n",
       "       [3, 1, 0, 1, 2],\n",
       "       [2, 2, 2, 2, 0],\n",
       "       [1, 1, 2, 0, 1],\n",
       "       [1, 1, 3, 0, 3]])"
      ]
     },
     "execution_count": 60,
     "metadata": {},
     "output_type": "execute_result"
    }
   ],
   "source": [
    "a & b"
   ]
  },
  {
   "cell_type": "code",
   "execution_count": 61,
   "metadata": {},
   "outputs": [
    {
     "data": {
      "text/plain": [
       "array([[3, 3, 3, 3, 3],\n",
       "       [3, 3, 7, 3, 3],\n",
       "       [3, 3, 3, 3, 7],\n",
       "       [3, 3, 3, 7, 3],\n",
       "       [3, 3, 3, 7, 3]])"
      ]
     },
     "execution_count": 61,
     "metadata": {},
     "output_type": "execute_result"
    }
   ],
   "source": [
    "a | b"
   ]
  },
  {
   "cell_type": "code",
   "execution_count": 62,
   "metadata": {},
   "outputs": [
    {
     "data": {
      "text/plain": [
       "array([[0.33333333]])"
      ]
     },
     "execution_count": 62,
     "metadata": {},
     "output_type": "execute_result"
    }
   ],
   "source": [
    "np.linalg.inv(a[1:2, 1:2])"
   ]
  },
  {
   "cell_type": "code",
   "execution_count": 63,
   "metadata": {},
   "outputs": [
    {
     "data": {
      "text/plain": [
       "array([[0.01333333, 0.01333333, 0.01333333, 0.01333333, 0.01333333],\n",
       "       [0.01333333, 0.01333333, 0.01333333, 0.01333333, 0.01333333],\n",
       "       [0.01333333, 0.01333333, 0.01333333, 0.01333333, 0.01333333],\n",
       "       [0.01333333, 0.01333333, 0.01333333, 0.01333333, 0.01333333],\n",
       "       [0.01333333, 0.01333333, 0.01333333, 0.01333333, 0.01333333]])"
      ]
     },
     "execution_count": 63,
     "metadata": {},
     "output_type": "execute_result"
    }
   ],
   "source": [
    "np.linalg.pinv(a)"
   ]
  },
  {
   "cell_type": "code",
   "execution_count": 64,
   "metadata": {},
   "outputs": [
    {
     "data": {
      "text/plain": [
       "1"
      ]
     },
     "execution_count": 64,
     "metadata": {},
     "output_type": "execute_result"
    }
   ],
   "source": [
    "np.linalg.matrix_rank(a)"
   ]
  },
  {
   "cell_type": "code",
   "execution_count": 83,
   "metadata": {},
   "outputs": [
    {
     "data": {
      "text/plain": [
       "(array([[0.2, 0.2, 0.2, 0.2, 0.2],\n",
       "        [0.2, 0.2, 0.2, 0.2, 0.2],\n",
       "        [0.2, 0.2, 0.2, 0.2, 0.2],\n",
       "        [0.2, 0.2, 0.2, 0.2, 0.2],\n",
       "        [0.2, 0.2, 0.2, 0.2, 0.2]]),\n",
       " array([], dtype=float64),\n",
       " 1,\n",
       " array([1.50000000e+01, 1.58882186e-15, 0.00000000e+00, 0.00000000e+00,\n",
       "        0.00000000e+00]))"
      ]
     },
     "execution_count": 83,
     "metadata": {},
     "output_type": "execute_result"
    }
   ],
   "source": [
    "np.linalg.lstsq(a,a, rcond=None)"
   ]
  },
  {
   "cell_type": "code",
   "execution_count": 108,
   "metadata": {},
   "outputs": [],
   "source": [
    "U, S, Vh = np.linalg.svd(np.random.randint(1, 9, (10, 10, 10)))\n",
    "V = Vh.T"
   ]
  },
  {
   "cell_type": "code",
   "execution_count": 96,
   "metadata": {},
   "outputs": [
    {
     "data": {
      "text/plain": [
       "array([[1.]])"
      ]
     },
     "execution_count": 96,
     "metadata": {},
     "output_type": "execute_result"
    }
   ],
   "source": [
    "np.linalg.cholesky(np.random.randint(1, 2, (1, 1))).T"
   ]
  },
  {
   "cell_type": "code",
   "execution_count": 97,
   "metadata": {},
   "outputs": [],
   "source": [
    "D,V = np.linalg.eig(a)"
   ]
  },
  {
   "cell_type": "code",
   "execution_count": 98,
   "metadata": {},
   "outputs": [],
   "source": [
    "D,V = scipy.linalg.eig(a,b)"
   ]
  },
  {
   "cell_type": "code",
   "execution_count": 99,
   "metadata": {},
   "outputs": [],
   "source": [
    "Q,R = scipy.linalg.qr(a)"
   ]
  },
  {
   "cell_type": "code",
   "execution_count": 100,
   "metadata": {},
   "outputs": [],
   "source": [
    "LU,P = scipy.linalg.lu_factor(b)"
   ]
  },
  {
   "cell_type": "code",
   "execution_count": 101,
   "metadata": {},
   "outputs": [
    {
     "data": {
      "text/plain": [
       "array([[15.+0.j,  0.+0.j,  0.+0.j,  0.+0.j,  0.+0.j],\n",
       "       [15.+0.j,  0.+0.j,  0.+0.j,  0.+0.j,  0.+0.j],\n",
       "       [15.+0.j,  0.+0.j,  0.+0.j,  0.+0.j,  0.+0.j],\n",
       "       [15.+0.j,  0.+0.j,  0.+0.j,  0.+0.j,  0.+0.j],\n",
       "       [15.+0.j,  0.+0.j,  0.+0.j,  0.+0.j,  0.+0.j]])"
      ]
     },
     "execution_count": 101,
     "metadata": {},
     "output_type": "execute_result"
    }
   ],
   "source": [
    "np.fft.fft(a)"
   ]
  },
  {
   "cell_type": "code",
   "execution_count": 102,
   "metadata": {},
   "outputs": [
    {
     "data": {
      "text/plain": [
       "array([[3.+0.j, 0.+0.j, 0.+0.j, 0.+0.j, 0.+0.j],\n",
       "       [3.+0.j, 0.+0.j, 0.+0.j, 0.+0.j, 0.+0.j],\n",
       "       [3.+0.j, 0.+0.j, 0.+0.j, 0.+0.j, 0.+0.j],\n",
       "       [3.+0.j, 0.+0.j, 0.+0.j, 0.+0.j, 0.+0.j],\n",
       "       [3.+0.j, 0.+0.j, 0.+0.j, 0.+0.j, 0.+0.j]])"
      ]
     },
     "execution_count": 102,
     "metadata": {},
     "output_type": "execute_result"
    }
   ],
   "source": [
    "np.fft.ifft(a)"
   ]
  },
  {
   "cell_type": "code",
   "execution_count": 103,
   "metadata": {},
   "outputs": [
    {
     "data": {
      "text/plain": [
       "array([[3, 3, 3, 3, 3],\n",
       "       [3, 3, 3, 3, 3],\n",
       "       [3, 3, 3, 3, 3],\n",
       "       [3, 3, 3, 3, 3],\n",
       "       [3, 3, 3, 3, 3]])"
      ]
     },
     "execution_count": 103,
     "metadata": {},
     "output_type": "execute_result"
    }
   ],
   "source": [
    "np.sort(a)"
   ]
  },
  {
   "cell_type": "code",
   "execution_count": 122,
   "metadata": {},
   "outputs": [
    {
     "data": {
      "text/plain": [
       "array([[3, 3, 3, 3, 3],\n",
       "       [3, 3, 3, 3, 3],\n",
       "       [3, 3, 3, 3, 3],\n",
       "       [3, 3, 3, 3, 3],\n",
       "       [3, 3, 3, 3, 3]])"
      ]
     },
     "execution_count": 122,
     "metadata": {},
     "output_type": "execute_result"
    }
   ],
   "source": [
    "np.sort(a, axis=1)"
   ]
  },
  {
   "cell_type": "code",
   "execution_count": 104,
   "metadata": {},
   "outputs": [],
   "source": [
    "I = np.argsort(a[:,1])"
   ]
  },
  {
   "cell_type": "code",
   "execution_count": 105,
   "metadata": {},
   "outputs": [
    {
     "data": {
      "text/plain": [
       "(array([[0.13333333, 0.10666667, 0.18666667, 0.18666667, 0.16      ],\n",
       "        [0.13333333, 0.10666667, 0.18666667, 0.18666667, 0.16      ],\n",
       "        [0.13333333, 0.10666667, 0.18666667, 0.18666667, 0.16      ],\n",
       "        [0.13333333, 0.10666667, 0.18666667, 0.18666667, 0.16      ],\n",
       "        [0.13333333, 0.10666667, 0.18666667, 0.18666667, 0.16      ]]),\n",
       " array([], dtype=float64),\n",
       " 1,\n",
       " array([1.50000000e+01, 1.58882186e-15, 0.00000000e+00, 0.00000000e+00,\n",
       "        0.00000000e+00]))"
      ]
     },
     "execution_count": 105,
     "metadata": {},
     "output_type": "execute_result"
    }
   ],
   "source": [
    "np.linalg.lstsq(a,b, rcond=None)"
   ]
  },
  {
   "cell_type": "code",
   "execution_count": 106,
   "metadata": {},
   "outputs": [
    {
     "data": {
      "text/plain": [
       "array([3])"
      ]
     },
     "execution_count": 106,
     "metadata": {},
     "output_type": "execute_result"
    }
   ],
   "source": [
    "np.unique(a)"
   ]
  },
  {
   "cell_type": "code",
   "execution_count": 107,
   "metadata": {},
   "outputs": [
    {
     "data": {
      "text/plain": [
       "array([[3, 3, 3, 3, 3],\n",
       "       [3, 3, 3, 3, 3],\n",
       "       [3, 3, 3, 3, 3],\n",
       "       [3, 3, 3, 3, 3],\n",
       "       [3, 3, 3, 3, 3]])"
      ]
     },
     "execution_count": 107,
     "metadata": {},
     "output_type": "execute_result"
    }
   ],
   "source": [
    "a.squeeze()"
   ]
  },
  {
   "cell_type": "markdown",
   "metadata": {},
   "source": [
    "## Task 3"
   ]
  },
  {
   "cell_type": "code",
   "execution_count": 124,
   "metadata": {},
   "outputs": [
    {
     "data": {
      "image/png": "[encoded data removed]",
      "text/plain": [
       "<Figure size 432x288 with 1 Axes>"
      ]
     },
     "metadata": {
      "needs_background": "light"
     },
     "output_type": "display_data"
    }
   ],
   "source": [
    "import matplotlib.pyplot as plt\n",
    "plt.plot([1,2,3,4], [1,2,7,14])\n",
    "plt.axis([0, 6, 0, 20])\n",
    "plt.show()"
   ]
  },
  {
   "cell_type": "markdown",
   "metadata": {},
   "source": [
    "## Task 4"
   ]
  },
  {
   "cell_type": "code",
   "execution_count": 128,
   "metadata": {},
   "outputs": [
    {
     "data": {
      "image/png": "[encoded data removed]",
      "text/plain": [
       "<Figure size 432x288 with 1 Axes>"
      ]
     },
     "metadata": {
      "needs_background": "light"
     },
     "output_type": "display_data"
    }
   ],
   "source": [
    "import numpy as np\n",
    "\n",
    "t = np.arange(0., 5., 0.5)\n",
    "\n",
    "plt.plot(t, t, 'r--', t, t**2, 'bs', t, t**3, 'g^')\n",
    "plt.show()"
   ]
  },
  {
   "cell_type": "markdown",
   "metadata": {},
   "source": [
    "## Task 5"
   ]
  },
  {
   "cell_type": "markdown",
   "metadata": {},
   "source": [
    "Github Acccount name: xiaozealer"
   ]
  },
  {
   "cell_type": "markdown",
   "metadata": {},
   "source": [
    "## Task 6"
   ]
  },
  {
   "cell_type": "markdown",
   "metadata": {},
   "source": [
    "https://github.com/xiaozealer/576"
   ]
  }
 ],
 "metadata": {
  "kernelspec": {
   "display_name": "Python 3 (ipykernel)",
   "language": "python",
   "name": "python3"
  },
  "language_info": {
   "codemirror_mode": {
    "name": "ipython",
    "version": 3
   },
   "file_extension": ".py",
   "mimetype": "text/x-python",
   "name": "python",
   "nbconvert_exporter": "python",
   "pygments_lexer": "ipython3",
   "version": "3.11.4"
  }
 },
 "nbformat": 4,
 "nbformat_minor": 4
}
