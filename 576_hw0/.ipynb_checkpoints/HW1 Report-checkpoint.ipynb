{
 "cells": [
  {
   "cell_type": "markdown",
   "metadata": {},
   "source": [
    "# HW 1 Report"
   ]
  },
  {
   "cell_type": "markdown",
   "metadata": {},
   "source": [
    "## Task 1"
   ]
  },
  {
   "cell_type": "code",
   "execution_count": null,
   "metadata": {},
   "outputs": [
    {
     "name": "stdout",
     "output_type": "stream",
     "text": [
      "\r\n",
      "     active environment : base\r\n",
      "    active env location : /Users/dingzheyu/anaconda3\r\n",
      "            shell level : 1\r\n",
      "       user config file : /Users/dingzheyu/.condarc\r\n",
      " populated config files : /Users/dingzheyu/.condarc\r\n",
      "          conda version : 4.7.11\r\n",
      "    conda-build version : 3.10.5\r\n",
      "         python version : 3.6.5.final.0\r\n",
      "       virtual packages : \r\n",
      "       base environment : /Users/dingzheyu/anaconda3  (writable)\r\n",
      "           channel URLs : https://repo.anaconda.com/pkgs/main/osx-64\r\n",
      "                          https://repo.anaconda.com/pkgs/main/noarch\r\n",
      "                          https://repo.anaconda.com/pkgs/r/osx-64\r\n",
      "                          https://repo.anaconda.com/pkgs/r/noarch\r\n",
      "          package cache : /Users/dingzheyu/anaconda3/pkgs\r\n",
      "                          /Users/dingzheyu/.conda/pkgs\r\n",
      "       envs directories : /Users/dingzheyu/anaconda3/envs\r\n",
      "                          /Users/dingzheyu/.conda/envs\r\n",
      "               platform : osx-64\r\n",
      "             user-agent : conda/4.7.11 requests/2.18.4 CPython/3.6.5 Darwin/18.6.0 OSX/10.14.5\r\n",
      "                UID:GID : 501:20\r\n",
      "             netrc file : None\r\n",
      "           offline mode : False\r\n",
      "\r\n"
     ]
    }
   ],
   "source": [
    "! conda info"
   ]
  },
  {
   "cell_type": "raw",
   "metadata": {},
   "source": [
    "active environment : base \n",
    "    active env location : /Users/dingzheyu/anaconda3\n",
    "            shell level : 1\n",
    "       user config file : /Users/dingzheyu/.condarc\n",
    " populated config files : /Users/dingzheyu/.condarc\n",
    "          conda version : 4.7.11\n",
    "    conda-build version : 3.10.5\n",
    "         python version : 3.6.5.final.0\n",
    "       virtual packages : \n",
    "       base environment : /Users/dingzheyu/anaconda3  (writable)\n",
    "           channel URLs : https://repo.anaconda.com/pkgs/main/osx-64\n",
    "                          https://repo.anaconda.com/pkgs/main/noarch\n",
    "                          https://repo.anaconda.com/pkgs/r/osx-64\n",
    "                          https://repo.anaconda.com/pkgs/r/noarch\n",
    "          package cache : /Users/dingzheyu/anaconda3/pkgs\n",
    "                          /Users/dingzheyu/.conda/pkgs\n",
    "       envs directories : /Users/dingzheyu/anaconda3/envs\n",
    "                          /Users/dingzheyu/.conda/envs\n",
    "               platform : osx-64\n",
    "             user-agent : conda/4.7.11 requests/2.18.4 CPython/3.6.5 Darwin/18.6.0 OSX/10.14.5\n",
    "                UID:GID : 501:20\n",
    "             netrc file : None\n",
    "           offline mode : False"
   ]
  },
  {
   "cell_type": "markdown",
   "metadata": {},
   "source": [
    "## Task 2"
   ]
  },
  {
   "cell_type": "code",
   "execution_count": 2,
   "metadata": {},
   "outputs": [],
   "source": [
    "import numpy as np\n",
    "import scipy.linalg"
   ]
  },
  {
   "cell_type": "code",
   "execution_count": 3,
   "metadata": {},
   "outputs": [],
   "source": [
    "a = np.random.randint(1, 10, (10, 10))"
   ]
  },
  {
   "cell_type": "code",
   "execution_count": 4,
   "metadata": {},
   "outputs": [
    {
     "data": {
      "text/plain": [
       "2"
      ]
     },
     "execution_count": 4,
     "metadata": {},
     "output_type": "execute_result"
    }
   ],
   "source": [
    "np.ndim(a)"
   ]
  },
  {
   "cell_type": "code",
   "execution_count": 5,
   "metadata": {},
   "outputs": [
    {
     "data": {
      "text/plain": [
       "100"
      ]
     },
     "execution_count": 5,
     "metadata": {},
     "output_type": "execute_result"
    }
   ],
   "source": [
    "np.size(a)"
   ]
  },
  {
   "cell_type": "code",
   "execution_count": 6,
   "metadata": {},
   "outputs": [
    {
     "data": {
      "text/plain": [
       "(10, 10)"
      ]
     },
     "execution_count": 6,
     "metadata": {},
     "output_type": "execute_result"
    }
   ],
   "source": [
    "np.shape(a)"
   ]
  },
  {
   "cell_type": "code",
   "execution_count": 7,
   "metadata": {},
   "outputs": [
    {
     "data": {
      "text/plain": [
       "10"
      ]
     },
     "execution_count": 7,
     "metadata": {},
     "output_type": "execute_result"
    }
   ],
   "source": [
    "a.shape[1]"
   ]
  },
  {
   "cell_type": "code",
   "execution_count": 8,
   "metadata": {},
   "outputs": [
    {
     "data": {
      "text/plain": [
       "array([[1., 2., 3.],\n",
       "       [4., 5., 6.]])"
      ]
     },
     "execution_count": 8,
     "metadata": {},
     "output_type": "execute_result"
    }
   ],
   "source": [
    "np.array([[1.,2.,3.], [4.,5.,6.]])"
   ]
  },
  {
   "cell_type": "code",
   "execution_count": 9,
   "metadata": {},
   "outputs": [
    {
     "data": {
      "text/plain": [
       "array([[2, 9, 5, 7, 1, 6, 2, 1, 1, 5, 6, 5, 5, 4, 6, 8, 8, 6, 6, 4],\n",
       "       [3, 9, 5, 6, 5, 1, 2, 5, 1, 3, 4, 6, 7, 5, 7, 6, 9, 9, 4, 8],\n",
       "       [1, 2, 2, 5, 8, 8, 5, 2, 7, 7, 7, 8, 8, 2, 3, 7, 7, 4, 5, 1],\n",
       "       [9, 8, 7, 6, 9, 1, 7, 6, 9, 1, 5, 6, 1, 7, 5, 6, 6, 3, 1, 6],\n",
       "       [5, 1, 7, 5, 7, 3, 8, 3, 1, 2, 1, 2, 3, 7, 7, 3, 5, 3, 7, 1],\n",
       "       [5, 4, 2, 4, 2, 2, 2, 8, 8, 2, 9, 1, 3, 2, 9, 7, 8, 8, 5, 5],\n",
       "       [1, 4, 5, 2, 7, 3, 7, 5, 5, 4, 7, 2, 8, 8, 6, 5, 7, 4, 3, 3],\n",
       "       [4, 8, 6, 5, 1, 3, 9, 5, 5, 2, 8, 4, 6, 9, 4, 1, 7, 1, 3, 6],\n",
       "       [5, 3, 9, 3, 4, 6, 8, 7, 6, 5, 4, 8, 5, 9, 5, 4, 9, 3, 5, 1],\n",
       "       [4, 4, 1, 5, 4, 1, 8, 6, 5, 4, 9, 1, 3, 9, 9, 2, 1, 2, 9, 2],\n",
       "       [4, 7, 7, 6, 4, 4, 8, 7, 4, 6, 6, 6, 6, 4, 3, 4, 2, 8, 6, 5],\n",
       "       [8, 3, 2, 3, 6, 6, 9, 7, 7, 9, 5, 7, 9, 7, 4, 7, 1, 1, 9, 7],\n",
       "       [7, 7, 3, 9, 9, 9, 9, 8, 2, 3, 5, 9, 9, 8, 7, 8, 3, 2, 1, 4],\n",
       "       [2, 3, 4, 6, 2, 5, 6, 3, 9, 1, 3, 5, 7, 4, 2, 9, 8, 7, 7, 1],\n",
       "       [5, 5, 3, 9, 1, 6, 4, 9, 4, 5, 8, 8, 9, 2, 1, 3, 9, 5, 6, 2],\n",
       "       [3, 8, 2, 7, 9, 5, 8, 5, 5, 8, 3, 3, 6, 6, 4, 2, 4, 5, 9, 1],\n",
       "       [8, 8, 2, 5, 6, 8, 3, 5, 6, 4, 8, 7, 4, 6, 6, 5, 4, 3, 1, 2],\n",
       "       [5, 6, 1, 1, 4, 1, 9, 3, 6, 7, 4, 3, 7, 7, 7, 1, 3, 3, 2, 3],\n",
       "       [5, 8, 2, 6, 4, 4, 2, 5, 9, 5, 6, 4, 7, 8, 7, 4, 9, 6, 8, 2],\n",
       "       [3, 9, 5, 5, 8, 9, 5, 2, 6, 3, 5, 6, 8, 2, 3, 1, 1, 1, 8, 4]])"
      ]
     },
     "execution_count": 9,
     "metadata": {},
     "output_type": "execute_result"
    }
   ],
   "source": [
    "b = np.random.randint(1, 10, (10, 10))\n",
    "c = np.random.randint(1, 10, (10, 10))\n",
    "d = np.random.randint(1, 10, (10, 10))\n",
    "np.block([[a,b], [c,d]])"
   ]
  },
  {
   "cell_type": "code",
   "execution_count": 10,
   "metadata": {},
   "outputs": [
    {
     "data": {
      "text/plain": [
       "array([4, 4, 1, 5, 4, 1, 8, 6, 5, 4])"
      ]
     },
     "execution_count": 10,
     "metadata": {},
     "output_type": "execute_result"
    }
   ],
   "source": [
    "a[-1]"
   ]
  },
  {
   "cell_type": "code",
   "execution_count": 11,
   "metadata": {},
   "outputs": [
    {
     "data": {
      "text/plain": [
       "5"
      ]
     },
     "execution_count": 11,
     "metadata": {},
     "output_type": "execute_result"
    }
   ],
   "source": [
    "a[1,4]"
   ]
  },
  {
   "cell_type": "code",
   "execution_count": 12,
   "metadata": {},
   "outputs": [
    {
     "name": "stdout",
     "output_type": "stream",
     "text": [
      "[[2 9 5 7 1 6 2 1 1 5]\n",
      " [3 9 5 6 5 1 2 5 1 3]\n",
      " [1 2 2 5 8 8 5 2 7 7]\n",
      " [9 8 7 6 9 1 7 6 9 1]\n",
      " [5 1 7 5 7 3 8 3 1 2]]\n",
      "[[2 9 5 7 1 6 2 1 1 5]\n",
      " [3 9 5 6 5 1 2 5 1 3]\n",
      " [1 2 2 5 8 8 5 2 7 7]\n",
      " [9 8 7 6 9 1 7 6 9 1]\n",
      " [5 1 7 5 7 3 8 3 1 2]]\n",
      "[[2 9 5 7 1 6 2 1 1 5]\n",
      " [3 9 5 6 5 1 2 5 1 3]\n",
      " [1 2 2 5 8 8 5 2 7 7]\n",
      " [9 8 7 6 9 1 7 6 9 1]\n",
      " [5 1 7 5 7 3 8 3 1 2]]\n"
     ]
    }
   ],
   "source": [
    "print(a[0:5])\n",
    "print(a[:5])\n",
    "print(a[0:5,:])"
   ]
  },
  {
   "cell_type": "code",
   "execution_count": 13,
   "metadata": {},
   "outputs": [
    {
     "data": {
      "text/plain": [
       "array([[5, 4, 2, 4, 2, 2, 2, 8, 8, 2],\n",
       "       [1, 4, 5, 2, 7, 3, 7, 5, 5, 4],\n",
       "       [4, 8, 6, 5, 1, 3, 9, 5, 5, 2],\n",
       "       [5, 3, 9, 3, 4, 6, 8, 7, 6, 5],\n",
       "       [4, 4, 1, 5, 4, 1, 8, 6, 5, 4]])"
      ]
     },
     "execution_count": 13,
     "metadata": {},
     "output_type": "execute_result"
    }
   ],
   "source": [
    "a[-5:]"
   ]
  },
  {
   "cell_type": "code",
   "execution_count": 14,
   "metadata": {},
   "outputs": [
    {
     "data": {
      "text/plain": [
       "array([[1, 6, 2, 1, 1],\n",
       "       [5, 1, 2, 5, 1],\n",
       "       [8, 8, 5, 2, 7]])"
      ]
     },
     "execution_count": 14,
     "metadata": {},
     "output_type": "execute_result"
    }
   ],
   "source": [
    "a[0:3][:,4:9]"
   ]
  },
  {
   "cell_type": "code",
   "execution_count": 15,
   "metadata": {},
   "outputs": [
    {
     "data": {
      "text/plain": [
       "array([3, 7])"
      ]
     },
     "execution_count": 15,
     "metadata": {},
     "output_type": "execute_result"
    }
   ],
   "source": [
    "a[([1,3],[0,2])]"
   ]
  },
  {
   "cell_type": "code",
   "execution_count": 16,
   "metadata": {},
   "outputs": [
    {
     "data": {
      "text/plain": [
       "array([], shape=(0, 10), dtype=int64)"
      ]
     },
     "execution_count": 16,
     "metadata": {},
     "output_type": "execute_result"
    }
   ],
   "source": [
    "a[ 2:1:2,:]"
   ]
  },
  {
   "cell_type": "code",
   "execution_count": 17,
   "metadata": {},
   "outputs": [
    {
     "data": {
      "text/plain": [
       "array([[2, 9, 5, 7, 1, 6, 2, 1, 1, 5],\n",
       "       [1, 2, 2, 5, 8, 8, 5, 2, 7, 7],\n",
       "       [5, 1, 7, 5, 7, 3, 8, 3, 1, 2],\n",
       "       [1, 4, 5, 2, 7, 3, 7, 5, 5, 4],\n",
       "       [5, 3, 9, 3, 4, 6, 8, 7, 6, 5]])"
      ]
     },
     "execution_count": 17,
     "metadata": {},
     "output_type": "execute_result"
    }
   ],
   "source": [
    "a[ ::2,:]"
   ]
  },
  {
   "cell_type": "code",
   "execution_count": 18,
   "metadata": {},
   "outputs": [
    {
     "data": {
      "text/plain": [
       "array([[4, 4, 1, 5, 4, 1, 8, 6, 5, 4],\n",
       "       [5, 3, 9, 3, 4, 6, 8, 7, 6, 5],\n",
       "       [4, 8, 6, 5, 1, 3, 9, 5, 5, 2],\n",
       "       [1, 4, 5, 2, 7, 3, 7, 5, 5, 4],\n",
       "       [5, 4, 2, 4, 2, 2, 2, 8, 8, 2],\n",
       "       [5, 1, 7, 5, 7, 3, 8, 3, 1, 2],\n",
       "       [9, 8, 7, 6, 9, 1, 7, 6, 9, 1],\n",
       "       [1, 2, 2, 5, 8, 8, 5, 2, 7, 7],\n",
       "       [3, 9, 5, 6, 5, 1, 2, 5, 1, 3],\n",
       "       [2, 9, 5, 7, 1, 6, 2, 1, 1, 5]])"
      ]
     },
     "execution_count": 18,
     "metadata": {},
     "output_type": "execute_result"
    }
   ],
   "source": [
    "a[ ::-1,:]"
   ]
  },
  {
   "cell_type": "code",
   "execution_count": 19,
   "metadata": {},
   "outputs": [
    {
     "data": {
      "text/plain": [
       "array([2, 3, 1, 9, 5, 5, 1, 4, 5, 4])"
      ]
     },
     "execution_count": 19,
     "metadata": {},
     "output_type": "execute_result"
    }
   ],
   "source": [
    "a[:len(a),0]"
   ]
  },
  {
   "cell_type": "code",
   "execution_count": 20,
   "metadata": {},
   "outputs": [
    {
     "data": {
      "text/plain": [
       "array([[2, 3, 1, 9, 5, 5, 1, 4, 5, 4],\n",
       "       [9, 9, 2, 8, 1, 4, 4, 8, 3, 4],\n",
       "       [5, 5, 2, 7, 7, 2, 5, 6, 9, 1],\n",
       "       [7, 6, 5, 6, 5, 4, 2, 5, 3, 5],\n",
       "       [1, 5, 8, 9, 7, 2, 7, 1, 4, 4],\n",
       "       [6, 1, 8, 1, 3, 2, 3, 3, 6, 1],\n",
       "       [2, 2, 5, 7, 8, 2, 7, 9, 8, 8],\n",
       "       [1, 5, 2, 6, 3, 8, 5, 5, 7, 6],\n",
       "       [1, 1, 7, 9, 1, 8, 5, 5, 6, 5],\n",
       "       [5, 3, 7, 1, 2, 2, 4, 2, 5, 4]])"
      ]
     },
     "execution_count": 20,
     "metadata": {},
     "output_type": "execute_result"
    }
   ],
   "source": [
    "a.transpose() "
   ]
  },
  {
   "cell_type": "code",
   "execution_count": 21,
   "metadata": {},
   "outputs": [
    {
     "data": {
      "text/plain": [
       "array([[2, 3, 1, 9, 5, 5, 1, 4, 5, 4],\n",
       "       [9, 9, 2, 8, 1, 4, 4, 8, 3, 4],\n",
       "       [5, 5, 2, 7, 7, 2, 5, 6, 9, 1],\n",
       "       [7, 6, 5, 6, 5, 4, 2, 5, 3, 5],\n",
       "       [1, 5, 8, 9, 7, 2, 7, 1, 4, 4],\n",
       "       [6, 1, 8, 1, 3, 2, 3, 3, 6, 1],\n",
       "       [2, 2, 5, 7, 8, 2, 7, 9, 8, 8],\n",
       "       [1, 5, 2, 6, 3, 8, 5, 5, 7, 6],\n",
       "       [1, 1, 7, 9, 1, 8, 5, 5, 6, 5],\n",
       "       [5, 3, 7, 1, 2, 2, 4, 2, 5, 4]])"
      ]
     },
     "execution_count": 21,
     "metadata": {},
     "output_type": "execute_result"
    }
   ],
   "source": [
    "a.conj().transpose()"
   ]
  },
  {
   "cell_type": "code",
   "execution_count": 22,
   "metadata": {},
   "outputs": [
    {
     "data": {
      "text/plain": [
       "array([[244, 175, 183, 210, 252, 217, 262, 207, 176, 181],\n",
       "       [218, 191, 202, 243, 234, 196, 270, 182, 178, 178],\n",
       "       [275, 168, 196, 309, 315, 213, 293, 192, 244, 148],\n",
       "       [325, 315, 333, 397, 353, 318, 455, 270, 288, 225],\n",
       "       [244, 172, 216, 247, 242, 218, 275, 169, 194, 134],\n",
       "       [228, 197, 195, 268, 218, 176, 284, 152, 172, 156],\n",
       "       [246, 176, 228, 285, 258, 189, 283, 169, 210, 139],\n",
       "       [292, 231, 274, 296, 274, 250, 350, 222, 198, 198],\n",
       "       [359, 244, 302, 340, 326, 274, 380, 229, 268, 187],\n",
       "       [245, 175, 213, 302, 250, 186, 280, 160, 186, 161]])"
      ]
     },
     "execution_count": 22,
     "metadata": {},
     "output_type": "execute_result"
    }
   ],
   "source": [
    "a @ b"
   ]
  },
  {
   "cell_type": "code",
   "execution_count": 23,
   "metadata": {},
   "outputs": [
    {
     "data": {
      "text/plain": [
       "array([[12, 45, 25, 28,  6, 48, 16,  6,  6, 20],\n",
       "       [12, 54, 35, 30, 35,  6, 18, 45,  4, 24],\n",
       "       [ 7, 16, 16, 10, 24, 56, 35,  8, 35,  7],\n",
       "       [45, 48,  7, 42, 45,  6, 42, 18,  9,  6],\n",
       "       [ 5,  2, 21, 35, 49,  9, 40,  9,  7,  2],\n",
       "       [45,  4,  6,  8, 18, 14, 16, 64, 40, 10],\n",
       "       [ 7,  8, 40, 16, 42, 15, 49, 20, 15, 12],\n",
       "       [32, 32, 36, 45,  4,  3, 63,  5, 15, 12],\n",
       "       [20, 24, 45, 27, 20, 24, 72, 21, 30,  5],\n",
       "       [36,  4,  3, 45, 36,  2,  8, 12, 45,  8]])"
      ]
     },
     "execution_count": 23,
     "metadata": {},
     "output_type": "execute_result"
    }
   ],
   "source": [
    "a * b"
   ]
  },
  {
   "cell_type": "code",
   "execution_count": 24,
   "metadata": {},
   "outputs": [
    {
     "data": {
      "text/plain": [
       "array([[0.33333333, 1.8       , 1.        , 1.75      , 0.16666667,\n",
       "        0.75      , 0.25      , 0.16666667, 0.16666667, 1.25      ],\n",
       "       [0.75      , 1.5       , 0.71428571, 1.2       , 0.71428571,\n",
       "        0.16666667, 0.22222222, 0.55555556, 0.25      , 0.375     ],\n",
       "       [0.14285714, 0.25      , 0.25      , 2.5       , 2.66666667,\n",
       "        1.14285714, 0.71428571, 0.5       , 1.4       , 7.        ],\n",
       "       [1.8       , 1.33333333, 7.        , 0.85714286, 1.8       ,\n",
       "        0.16666667, 1.16666667, 2.        , 9.        , 0.16666667],\n",
       "       [5.        , 0.5       , 2.33333333, 0.71428571, 1.        ,\n",
       "        1.        , 1.6       , 1.        , 0.14285714, 2.        ],\n",
       "       [0.55555556, 4.        , 0.66666667, 2.        , 0.22222222,\n",
       "        0.28571429, 0.25      , 1.        , 1.6       , 0.4       ],\n",
       "       [0.14285714, 2.        , 0.625     , 0.25      , 1.16666667,\n",
       "        0.6       , 1.        , 1.25      , 1.66666667, 1.33333333],\n",
       "       [0.5       , 2.        , 1.        , 0.55555556, 0.25      ,\n",
       "        3.        , 1.28571429, 5.        , 1.66666667, 0.33333333],\n",
       "       [1.25      , 0.375     , 1.8       , 0.33333333, 0.8       ,\n",
       "        1.5       , 0.88888889, 2.33333333, 1.2       , 5.        ],\n",
       "       [0.44444444, 4.        , 0.33333333, 0.55555556, 0.44444444,\n",
       "        0.5       , 8.        , 3.        , 0.55555556, 2.        ]])"
      ]
     },
     "execution_count": 24,
     "metadata": {},
     "output_type": "execute_result"
    }
   ],
   "source": [
    "a / b"
   ]
  },
  {
   "cell_type": "code",
   "execution_count": 25,
   "metadata": {},
   "outputs": [
    {
     "data": {
      "text/plain": [
       "array([[  8, 729, 125, 343,   1, 216,   8,   1,   1, 125],\n",
       "       [ 27, 729, 125, 216, 125,   1,   8, 125,   1,  27],\n",
       "       [  1,   8,   8, 125, 512, 512, 125,   8, 343, 343],\n",
       "       [729, 512, 343, 216, 729,   1, 343, 216, 729,   1],\n",
       "       [125,   1, 343, 125, 343,  27, 512,  27,   1,   8],\n",
       "       [125,  64,   8,  64,   8,   8,   8, 512, 512,   8],\n",
       "       [  1,  64, 125,   8, 343,  27, 343, 125, 125,  64],\n",
       "       [ 64, 512, 216, 125,   1,  27, 729, 125, 125,   8],\n",
       "       [125,  27, 729,  27,  64, 216, 512, 343, 216, 125],\n",
       "       [ 64,  64,   1, 125,  64,   1, 512, 216, 125,  64]])"
      ]
     },
     "execution_count": 25,
     "metadata": {},
     "output_type": "execute_result"
    }
   ],
   "source": [
    "a ** 3"
   ]
  },
  {
   "cell_type": "code",
   "execution_count": 26,
   "metadata": {},
   "outputs": [
    {
     "data": {
      "text/plain": [
       "array([[ True,  True,  True,  True,  True,  True,  True,  True,  True,\n",
       "         True],\n",
       "       [ True,  True,  True,  True,  True,  True,  True,  True,  True,\n",
       "         True],\n",
       "       [ True,  True,  True,  True,  True,  True,  True,  True,  True,\n",
       "         True],\n",
       "       [ True,  True,  True,  True,  True,  True,  True,  True,  True,\n",
       "         True],\n",
       "       [ True,  True,  True,  True,  True,  True,  True,  True,  True,\n",
       "         True],\n",
       "       [ True,  True,  True,  True,  True,  True,  True,  True,  True,\n",
       "         True],\n",
       "       [ True,  True,  True,  True,  True,  True,  True,  True,  True,\n",
       "         True],\n",
       "       [ True,  True,  True,  True,  True,  True,  True,  True,  True,\n",
       "         True],\n",
       "       [ True,  True,  True,  True,  True,  True,  True,  True,  True,\n",
       "         True],\n",
       "       [ True,  True,  True,  True,  True,  True,  True,  True,  True,\n",
       "         True]])"
      ]
     },
     "execution_count": 26,
     "metadata": {},
     "output_type": "execute_result"
    }
   ],
   "source": [
    "a > 0.5"
   ]
  },
  {
   "cell_type": "code",
   "execution_count": 27,
   "metadata": {},
   "outputs": [
    {
     "data": {
      "text/plain": [
       "(array([0, 0, 0, 0, 0, 0, 0, 0, 0, 0, 1, 1, 1, 1, 1, 1, 1, 1, 1, 1, 2, 2,\n",
       "        2, 2, 2, 2, 2, 2, 2, 2, 3, 3, 3, 3, 3, 3, 3, 3, 3, 3, 4, 4, 4, 4,\n",
       "        4, 4, 4, 4, 4, 4, 5, 5, 5, 5, 5, 5, 5, 5, 5, 5, 6, 6, 6, 6, 6, 6,\n",
       "        6, 6, 6, 6, 7, 7, 7, 7, 7, 7, 7, 7, 7, 7, 8, 8, 8, 8, 8, 8, 8, 8,\n",
       "        8, 8, 9, 9, 9, 9, 9, 9, 9, 9, 9, 9]),\n",
       " array([0, 1, 2, 3, 4, 5, 6, 7, 8, 9, 0, 1, 2, 3, 4, 5, 6, 7, 8, 9, 0, 1,\n",
       "        2, 3, 4, 5, 6, 7, 8, 9, 0, 1, 2, 3, 4, 5, 6, 7, 8, 9, 0, 1, 2, 3,\n",
       "        4, 5, 6, 7, 8, 9, 0, 1, 2, 3, 4, 5, 6, 7, 8, 9, 0, 1, 2, 3, 4, 5,\n",
       "        6, 7, 8, 9, 0, 1, 2, 3, 4, 5, 6, 7, 8, 9, 0, 1, 2, 3, 4, 5, 6, 7,\n",
       "        8, 9, 0, 1, 2, 3, 4, 5, 6, 7, 8, 9]))"
      ]
     },
     "execution_count": 27,
     "metadata": {},
     "output_type": "execute_result"
    }
   ],
   "source": [
    "np.nonzero(a>0.5)"
   ]
  },
  {
   "cell_type": "code",
   "execution_count": 28,
   "metadata": {},
   "outputs": [
    {
     "data": {
      "text/plain": [
       "array([[9, 7, 1, 2, 1, 1, 5],\n",
       "       [9, 6, 5, 2, 5, 1, 3],\n",
       "       [2, 5, 8, 5, 2, 7, 7],\n",
       "       [8, 6, 9, 7, 6, 9, 1],\n",
       "       [1, 5, 7, 8, 3, 1, 2],\n",
       "       [4, 4, 2, 2, 8, 8, 2],\n",
       "       [4, 2, 7, 7, 5, 5, 4],\n",
       "       [8, 5, 1, 9, 5, 5, 2],\n",
       "       [3, 3, 4, 8, 7, 6, 5],\n",
       "       [4, 5, 4, 8, 6, 5, 4]])"
      ]
     },
     "execution_count": 28,
     "metadata": {},
     "output_type": "execute_result"
    }
   ],
   "source": [
    "v = np.random.randint(-2, 10, 10)\n",
    "a[:,np.nonzero(v>0.5)[0]]"
   ]
  },
  {
   "cell_type": "code",
   "execution_count": 29,
   "metadata": {},
   "outputs": [
    {
     "data": {
      "text/plain": [
       "array([[9, 7, 1, 2, 1, 1, 5],\n",
       "       [9, 6, 5, 2, 5, 1, 3],\n",
       "       [2, 5, 8, 5, 2, 7, 7],\n",
       "       [8, 6, 9, 7, 6, 9, 1],\n",
       "       [1, 5, 7, 8, 3, 1, 2],\n",
       "       [4, 4, 2, 2, 8, 8, 2],\n",
       "       [4, 2, 7, 7, 5, 5, 4],\n",
       "       [8, 5, 1, 9, 5, 5, 2],\n",
       "       [3, 3, 4, 8, 7, 6, 5],\n",
       "       [4, 5, 4, 8, 6, 5, 4]])"
      ]
     },
     "execution_count": 29,
     "metadata": {},
     "output_type": "execute_result"
    }
   ],
   "source": [
    "a[:,v.T>0.5]"
   ]
  },
  {
   "cell_type": "code",
   "execution_count": 30,
   "metadata": {},
   "outputs": [],
   "source": [
    "a[a<0.5]=0"
   ]
  },
  {
   "cell_type": "code",
   "execution_count": 31,
   "metadata": {},
   "outputs": [
    {
     "data": {
      "text/plain": [
       "array([[2, 9, 5, 7, 1, 6, 2, 1, 1, 5],\n",
       "       [3, 9, 5, 6, 5, 1, 2, 5, 1, 3],\n",
       "       [1, 2, 2, 5, 8, 8, 5, 2, 7, 7],\n",
       "       [9, 8, 7, 6, 9, 1, 7, 6, 9, 1],\n",
       "       [5, 1, 7, 5, 7, 3, 8, 3, 1, 2],\n",
       "       [5, 4, 2, 4, 2, 2, 2, 8, 8, 2],\n",
       "       [1, 4, 5, 2, 7, 3, 7, 5, 5, 4],\n",
       "       [4, 8, 6, 5, 1, 3, 9, 5, 5, 2],\n",
       "       [5, 3, 9, 3, 4, 6, 8, 7, 6, 5],\n",
       "       [4, 4, 1, 5, 4, 1, 8, 6, 5, 4]])"
      ]
     },
     "execution_count": 31,
     "metadata": {},
     "output_type": "execute_result"
    }
   ],
   "source": [
    "a * (a>0.5)"
   ]
  },
  {
   "cell_type": "code",
   "execution_count": 32,
   "metadata": {},
   "outputs": [],
   "source": [
    "a[:] = 3"
   ]
  },
  {
   "cell_type": "code",
   "execution_count": 33,
   "metadata": {},
   "outputs": [],
   "source": [
    "y = a.copy()"
   ]
  },
  {
   "cell_type": "code",
   "execution_count": 34,
   "metadata": {},
   "outputs": [],
   "source": [
    "y = a[1,:].copy()"
   ]
  },
  {
   "cell_type": "code",
   "execution_count": 35,
   "metadata": {},
   "outputs": [],
   "source": [
    "y = a.flatten()"
   ]
  },
  {
   "cell_type": "code",
   "execution_count": 36,
   "metadata": {},
   "outputs": [
    {
     "data": {
      "text/plain": [
       "array([ 1.,  2.,  3.,  4.,  5.,  6.,  7.,  8.,  9., 10.])"
      ]
     },
     "execution_count": 36,
     "metadata": {},
     "output_type": "execute_result"
    }
   ],
   "source": [
    "np.arange(1.,11.)"
   ]
  },
  {
   "cell_type": "code",
   "execution_count": 37,
   "metadata": {},
   "outputs": [
    {
     "data": {
      "text/plain": [
       "array([0., 1., 2., 3., 4., 5., 6., 7., 8., 9.])"
      ]
     },
     "execution_count": 37,
     "metadata": {},
     "output_type": "execute_result"
    }
   ],
   "source": [
    "np.arange(10.)"
   ]
  },
  {
   "cell_type": "code",
   "execution_count": 38,
   "metadata": {},
   "outputs": [
    {
     "data": {
      "text/plain": [
       "array([ 1.,  2.,  3.,  4.,  5.,  6.,  7.,  8.,  9., 10.])"
      ]
     },
     "execution_count": 38,
     "metadata": {},
     "output_type": "execute_result"
    }
   ],
   "source": [
    "np.arange(1.,11.)[:]"
   ]
  },
  {
   "cell_type": "code",
   "execution_count": 39,
   "metadata": {},
   "outputs": [
    {
     "data": {
      "text/plain": [
       "array([[0., 0., 0., 0.],\n",
       "       [0., 0., 0., 0.],\n",
       "       [0., 0., 0., 0.]])"
      ]
     },
     "execution_count": 39,
     "metadata": {},
     "output_type": "execute_result"
    }
   ],
   "source": [
    "np.zeros((3,4))"
   ]
  },
  {
   "cell_type": "code",
   "execution_count": 40,
   "metadata": {},
   "outputs": [
    {
     "data": {
      "text/plain": [
       "array([[1., 1., 1., 1.],\n",
       "       [1., 1., 1., 1.],\n",
       "       [1., 1., 1., 1.]])"
      ]
     },
     "execution_count": 40,
     "metadata": {},
     "output_type": "execute_result"
    }
   ],
   "source": [
    "np.ones((3,4))"
   ]
  },
  {
   "cell_type": "code",
   "execution_count": 41,
   "metadata": {},
   "outputs": [
    {
     "data": {
      "text/plain": [
       "array([[1., 0., 0.],\n",
       "       [0., 1., 0.],\n",
       "       [0., 0., 1.]])"
      ]
     },
     "execution_count": 41,
     "metadata": {},
     "output_type": "execute_result"
    }
   ],
   "source": [
    "np.eye(3)"
   ]
  },
  {
   "cell_type": "code",
   "execution_count": 42,
   "metadata": {},
   "outputs": [
    {
     "data": {
      "text/plain": [
       "array([3, 3, 3, 3, 3, 3, 3, 3, 3, 3])"
      ]
     },
     "execution_count": 42,
     "metadata": {},
     "output_type": "execute_result"
    }
   ],
   "source": [
    "np.diag(a)"
   ]
  },
  {
   "cell_type": "code",
   "execution_count": 43,
   "metadata": {},
   "outputs": [
    {
     "data": {
      "text/plain": [
       "array([3, 3, 3, 3, 3, 3, 3, 3, 3, 3])"
      ]
     },
     "execution_count": 43,
     "metadata": {},
     "output_type": "execute_result"
    }
   ],
   "source": [
    "np.diag(a,0)"
   ]
  },
  {
   "cell_type": "code",
   "execution_count": 44,
   "metadata": {},
   "outputs": [
    {
     "data": {
      "text/plain": [
       "array([[0.29696412, 0.03601101, 0.4227838 , 0.46113518],\n",
       "       [0.50987972, 0.35207276, 0.62883293, 0.30368372],\n",
       "       [0.80826654, 0.86750649, 0.25205844, 0.25814236]])"
      ]
     },
     "execution_count": 44,
     "metadata": {},
     "output_type": "execute_result"
    }
   ],
   "source": [
    "np.random.rand(3,4)"
   ]
  },
  {
   "cell_type": "code",
   "execution_count": 45,
   "metadata": {},
   "outputs": [
    {
     "data": {
      "text/plain": [
       "array([1.        , 1.66666667, 2.33333333, 3.        ])"
      ]
     },
     "execution_count": 45,
     "metadata": {},
     "output_type": "execute_result"
    }
   ],
   "source": [
    "np.linspace(1,3,4)"
   ]
  },
  {
   "cell_type": "code",
   "execution_count": 46,
   "metadata": {},
   "outputs": [
    {
     "data": {
      "text/plain": [
       "array([[[0., 0., 0., 0., 0., 0.],\n",
       "        [1., 1., 1., 1., 1., 1.],\n",
       "        [2., 2., 2., 2., 2., 2.],\n",
       "        [3., 3., 3., 3., 3., 3.],\n",
       "        [4., 4., 4., 4., 4., 4.],\n",
       "        [5., 5., 5., 5., 5., 5.],\n",
       "        [6., 6., 6., 6., 6., 6.],\n",
       "        [7., 7., 7., 7., 7., 7.],\n",
       "        [8., 8., 8., 8., 8., 8.]],\n",
       "\n",
       "       [[0., 1., 2., 3., 4., 5.],\n",
       "        [0., 1., 2., 3., 4., 5.],\n",
       "        [0., 1., 2., 3., 4., 5.],\n",
       "        [0., 1., 2., 3., 4., 5.],\n",
       "        [0., 1., 2., 3., 4., 5.],\n",
       "        [0., 1., 2., 3., 4., 5.],\n",
       "        [0., 1., 2., 3., 4., 5.],\n",
       "        [0., 1., 2., 3., 4., 5.],\n",
       "        [0., 1., 2., 3., 4., 5.]]])"
      ]
     },
     "execution_count": 46,
     "metadata": {},
     "output_type": "execute_result"
    }
   ],
   "source": [
    "np.mgrid[0:9.,0:6.]"
   ]
  },
  {
   "cell_type": "code",
   "execution_count": 47,
   "metadata": {},
   "outputs": [
    {
     "data": {
      "text/plain": [
       "[array([[0.],\n",
       "        [1.],\n",
       "        [2.],\n",
       "        [3.],\n",
       "        [4.],\n",
       "        [5.],\n",
       "        [6.],\n",
       "        [7.],\n",
       "        [8.]]), array([[0., 1., 2., 3., 4., 5.]])]"
      ]
     },
     "execution_count": 47,
     "metadata": {},
     "output_type": "execute_result"
    }
   ],
   "source": [
    "np.ogrid[0:9.,0:6.]"
   ]
  },
  {
   "cell_type": "code",
   "execution_count": 48,
   "metadata": {},
   "outputs": [
    {
     "data": {
      "text/plain": [
       "[array([[1, 2, 4],\n",
       "        [1, 2, 4],\n",
       "        [1, 2, 4]]), array([[2, 2, 2],\n",
       "        [4, 4, 4],\n",
       "        [5, 5, 5]])]"
      ]
     },
     "execution_count": 48,
     "metadata": {},
     "output_type": "execute_result"
    }
   ],
   "source": [
    "np.meshgrid([1,2,4],[2,4,5])"
   ]
  },
  {
   "cell_type": "code",
   "execution_count": 49,
   "metadata": {},
   "outputs": [
    {
     "data": {
      "text/plain": [
       "array([[3, 3, 3, ..., 3, 3, 3],\n",
       "       [3, 3, 3, ..., 3, 3, 3],\n",
       "       [3, 3, 3, ..., 3, 3, 3],\n",
       "       ...,\n",
       "       [3, 3, 3, ..., 3, 3, 3],\n",
       "       [3, 3, 3, ..., 3, 3, 3],\n",
       "       [3, 3, 3, ..., 3, 3, 3]])"
      ]
     },
     "execution_count": 49,
     "metadata": {},
     "output_type": "execute_result"
    }
   ],
   "source": [
    "np.tile(a, (100, 1))"
   ]
  },
  {
   "cell_type": "code",
   "execution_count": 50,
   "metadata": {},
   "outputs": [
    {
     "data": {
      "text/plain": [
       "array([[3, 3, 3, 3, 3, 3, 3, 3, 3, 3, 6, 5, 5, 4, 6, 8, 8, 6, 6, 4],\n",
       "       [3, 3, 3, 3, 3, 3, 3, 3, 3, 3, 4, 6, 7, 5, 7, 6, 9, 9, 4, 8],\n",
       "       [3, 3, 3, 3, 3, 3, 3, 3, 3, 3, 7, 8, 8, 2, 3, 7, 7, 4, 5, 1],\n",
       "       [3, 3, 3, 3, 3, 3, 3, 3, 3, 3, 5, 6, 1, 7, 5, 6, 6, 3, 1, 6],\n",
       "       [3, 3, 3, 3, 3, 3, 3, 3, 3, 3, 1, 2, 3, 7, 7, 3, 5, 3, 7, 1],\n",
       "       [3, 3, 3, 3, 3, 3, 3, 3, 3, 3, 9, 1, 3, 2, 9, 7, 8, 8, 5, 5],\n",
       "       [3, 3, 3, 3, 3, 3, 3, 3, 3, 3, 7, 2, 8, 8, 6, 5, 7, 4, 3, 3],\n",
       "       [3, 3, 3, 3, 3, 3, 3, 3, 3, 3, 8, 4, 6, 9, 4, 1, 7, 1, 3, 6],\n",
       "       [3, 3, 3, 3, 3, 3, 3, 3, 3, 3, 4, 8, 5, 9, 5, 4, 9, 3, 5, 1],\n",
       "       [3, 3, 3, 3, 3, 3, 3, 3, 3, 3, 9, 1, 3, 9, 9, 2, 1, 2, 9, 2]])"
      ]
     },
     "execution_count": 50,
     "metadata": {},
     "output_type": "execute_result"
    }
   ],
   "source": [
    "np.concatenate((a,b),1)\n",
    "np.hstack((a,b))\n",
    "np.column_stack((a,b))"
   ]
  },
  {
   "cell_type": "code",
   "execution_count": 51,
   "metadata": {},
   "outputs": [
    {
     "data": {
      "text/plain": [
       "3"
      ]
     },
     "execution_count": 51,
     "metadata": {},
     "output_type": "execute_result"
    }
   ],
   "source": [
    "a.max()"
   ]
  },
  {
   "cell_type": "code",
   "execution_count": 52,
   "metadata": {},
   "outputs": [
    {
     "data": {
      "text/plain": [
       "array([3, 3, 3, 3, 3, 3, 3, 3, 3, 3])"
      ]
     },
     "execution_count": 52,
     "metadata": {},
     "output_type": "execute_result"
    }
   ],
   "source": [
    "a.max(0)"
   ]
  },
  {
   "cell_type": "code",
   "execution_count": 53,
   "metadata": {},
   "outputs": [
    {
     "data": {
      "text/plain": [
       "array([[6, 5, 5, 4, 6, 8, 8, 6, 6, 4],\n",
       "       [4, 6, 7, 5, 7, 6, 9, 9, 4, 8],\n",
       "       [7, 8, 8, 3, 3, 7, 7, 4, 5, 3],\n",
       "       [5, 6, 3, 7, 5, 6, 6, 3, 3, 6],\n",
       "       [3, 3, 3, 7, 7, 3, 5, 3, 7, 3],\n",
       "       [9, 3, 3, 3, 9, 7, 8, 8, 5, 5],\n",
       "       [7, 3, 8, 8, 6, 5, 7, 4, 3, 3],\n",
       "       [8, 4, 6, 9, 4, 3, 7, 3, 3, 6],\n",
       "       [4, 8, 5, 9, 5, 4, 9, 3, 5, 3],\n",
       "       [9, 3, 3, 9, 9, 3, 3, 3, 9, 3]])"
      ]
     },
     "execution_count": 53,
     "metadata": {},
     "output_type": "execute_result"
    }
   ],
   "source": [
    "np.maximum(a, b)"
   ]
  },
  {
   "cell_type": "code",
   "execution_count": 54,
   "metadata": {},
   "outputs": [
    {
     "data": {
      "text/plain": [
       "20.024984394500787"
      ]
     },
     "execution_count": 54,
     "metadata": {},
     "output_type": "execute_result"
    }
   ],
   "source": [
    "np.sqrt(v @ v)"
   ]
  },
  {
   "cell_type": "code",
   "execution_count": 55,
   "metadata": {},
   "outputs": [
    {
     "data": {
      "text/plain": [
       "array([[ True,  True,  True,  True,  True,  True,  True,  True,  True,\n",
       "         True],\n",
       "       [ True,  True,  True,  True,  True,  True,  True,  True,  True,\n",
       "         True],\n",
       "       [ True,  True,  True,  True,  True,  True,  True,  True,  True,\n",
       "         True],\n",
       "       [ True,  True,  True,  True,  True,  True,  True,  True,  True,\n",
       "         True],\n",
       "       [ True,  True,  True,  True,  True,  True,  True,  True,  True,\n",
       "         True],\n",
       "       [ True,  True,  True,  True,  True,  True,  True,  True,  True,\n",
       "         True],\n",
       "       [ True,  True,  True,  True,  True,  True,  True,  True,  True,\n",
       "         True],\n",
       "       [ True,  True,  True,  True,  True,  True,  True,  True,  True,\n",
       "         True],\n",
       "       [ True,  True,  True,  True,  True,  True,  True,  True,  True,\n",
       "         True],\n",
       "       [ True,  True,  True,  True,  True,  True,  True,  True,  True,\n",
       "         True]])"
      ]
     },
     "execution_count": 55,
     "metadata": {},
     "output_type": "execute_result"
    }
   ],
   "source": [
    "np.logical_and(a,b)"
   ]
  },
  {
   "cell_type": "code",
   "execution_count": 56,
   "metadata": {},
   "outputs": [
    {
     "data": {
      "text/plain": [
       "array([[2, 1, 1, 0, 2, 0, 0, 2, 2, 0],\n",
       "       [0, 2, 3, 1, 3, 2, 1, 1, 0, 0],\n",
       "       [3, 0, 0, 2, 3, 3, 3, 0, 1, 1],\n",
       "       [1, 2, 1, 3, 1, 2, 2, 3, 1, 2],\n",
       "       [1, 2, 3, 3, 3, 3, 1, 3, 3, 1],\n",
       "       [1, 1, 3, 2, 1, 3, 0, 0, 1, 1],\n",
       "       [3, 2, 0, 0, 2, 1, 3, 0, 3, 3],\n",
       "       [0, 0, 2, 1, 0, 1, 3, 1, 3, 2],\n",
       "       [0, 0, 1, 1, 1, 0, 1, 3, 1, 1],\n",
       "       [1, 1, 3, 1, 1, 2, 1, 2, 1, 2]])"
      ]
     },
     "execution_count": 56,
     "metadata": {},
     "output_type": "execute_result"
    }
   ],
   "source": [
    "a & b"
   ]
  },
  {
   "cell_type": "code",
   "execution_count": 57,
   "metadata": {},
   "outputs": [
    {
     "data": {
      "text/plain": [
       "array([[ 7,  7,  7,  7,  7, 11, 11,  7,  7,  7],\n",
       "       [ 7,  7,  7,  7,  7,  7, 11, 11,  7, 11],\n",
       "       [ 7, 11, 11,  3,  3,  7,  7,  7,  7,  3],\n",
       "       [ 7,  7,  3,  7,  7,  7,  7,  3,  3,  7],\n",
       "       [ 3,  3,  3,  7,  7,  3,  7,  3,  7,  3],\n",
       "       [11,  3,  3,  3, 11,  7, 11, 11,  7,  7],\n",
       "       [ 7,  3, 11, 11,  7,  7,  7,  7,  3,  3],\n",
       "       [11,  7,  7, 11,  7,  3,  7,  3,  3,  7],\n",
       "       [ 7, 11,  7, 11,  7,  7, 11,  3,  7,  3],\n",
       "       [11,  3,  3, 11, 11,  3,  3,  3, 11,  3]])"
      ]
     },
     "execution_count": 57,
     "metadata": {},
     "output_type": "execute_result"
    }
   ],
   "source": [
    "a | b"
   ]
  },
  {
   "cell_type": "code",
   "execution_count": 58,
   "metadata": {},
   "outputs": [
    {
     "data": {
      "text/plain": [
       "array([[0.33333333]])"
      ]
     },
     "execution_count": 58,
     "metadata": {},
     "output_type": "execute_result"
    }
   ],
   "source": [
    "np.linalg.inv(a[1:2, 1:2])"
   ]
  },
  {
   "cell_type": "code",
   "execution_count": 59,
   "metadata": {},
   "outputs": [
    {
     "data": {
      "text/plain": [
       "array([[0.00333333, 0.00333333, 0.00333333, 0.00333333, 0.00333333,\n",
       "        0.00333333, 0.00333333, 0.00333333, 0.00333333, 0.00333333],\n",
       "       [0.00333333, 0.00333333, 0.00333333, 0.00333333, 0.00333333,\n",
       "        0.00333333, 0.00333333, 0.00333333, 0.00333333, 0.00333333],\n",
       "       [0.00333333, 0.00333333, 0.00333333, 0.00333333, 0.00333333,\n",
       "        0.00333333, 0.00333333, 0.00333333, 0.00333333, 0.00333333],\n",
       "       [0.00333333, 0.00333333, 0.00333333, 0.00333333, 0.00333333,\n",
       "        0.00333333, 0.00333333, 0.00333333, 0.00333333, 0.00333333],\n",
       "       [0.00333333, 0.00333333, 0.00333333, 0.00333333, 0.00333333,\n",
       "        0.00333333, 0.00333333, 0.00333333, 0.00333333, 0.00333333],\n",
       "       [0.00333333, 0.00333333, 0.00333333, 0.00333333, 0.00333333,\n",
       "        0.00333333, 0.00333333, 0.00333333, 0.00333333, 0.00333333],\n",
       "       [0.00333333, 0.00333333, 0.00333333, 0.00333333, 0.00333333,\n",
       "        0.00333333, 0.00333333, 0.00333333, 0.00333333, 0.00333333],\n",
       "       [0.00333333, 0.00333333, 0.00333333, 0.00333333, 0.00333333,\n",
       "        0.00333333, 0.00333333, 0.00333333, 0.00333333, 0.00333333],\n",
       "       [0.00333333, 0.00333333, 0.00333333, 0.00333333, 0.00333333,\n",
       "        0.00333333, 0.00333333, 0.00333333, 0.00333333, 0.00333333],\n",
       "       [0.00333333, 0.00333333, 0.00333333, 0.00333333, 0.00333333,\n",
       "        0.00333333, 0.00333333, 0.00333333, 0.00333333, 0.00333333]])"
      ]
     },
     "execution_count": 59,
     "metadata": {},
     "output_type": "execute_result"
    }
   ],
   "source": [
    "np.linalg.pinv(a)"
   ]
  },
  {
   "cell_type": "code",
   "execution_count": 60,
   "metadata": {},
   "outputs": [
    {
     "data": {
      "text/plain": [
       "1"
      ]
     },
     "execution_count": 60,
     "metadata": {},
     "output_type": "execute_result"
    }
   ],
   "source": [
    "np.linalg.matrix_rank(a)"
   ]
  },
  {
   "cell_type": "code",
   "execution_count": 61,
   "metadata": {},
   "outputs": [
    {
     "name": "stderr",
     "output_type": "stream",
     "text": [
      "/Users/dingzheyu/anaconda3/lib/python3.6/site-packages/ipykernel_launcher.py:1: FutureWarning: `rcond` parameter will change to the default of machine precision times ``max(M, N)`` where M and N are the input matrix dimensions.\n",
      "To use the future default and silence this warning we advise to pass `rcond=None`, to keep using the old, explicitly pass `rcond=-1`.\n",
      "  \"\"\"Entry point for launching an IPython kernel.\n"
     ]
    },
    {
     "data": {
      "text/plain": [
       "(array([[0.2       , 0.14333333, 0.16333333, 0.20666667, 0.20333333,\n",
       "         0.16333333, 0.22333333, 0.14333333, 0.16      , 0.12333333],\n",
       "        [0.2       , 0.14333333, 0.16333333, 0.20666667, 0.20333333,\n",
       "         0.16333333, 0.22333333, 0.14333333, 0.16      , 0.12333333],\n",
       "        [0.2       , 0.14333333, 0.16333333, 0.20666667, 0.20333333,\n",
       "         0.16333333, 0.22333333, 0.14333333, 0.16      , 0.12333333],\n",
       "        [0.2       , 0.14333333, 0.16333333, 0.20666667, 0.20333333,\n",
       "         0.16333333, 0.22333333, 0.14333333, 0.16      , 0.12333333],\n",
       "        [0.2       , 0.14333333, 0.16333333, 0.20666667, 0.20333333,\n",
       "         0.16333333, 0.22333333, 0.14333333, 0.16      , 0.12333333],\n",
       "        [0.2       , 0.14333333, 0.16333333, 0.20666667, 0.20333333,\n",
       "         0.16333333, 0.22333333, 0.14333333, 0.16      , 0.12333333],\n",
       "        [0.2       , 0.14333333, 0.16333333, 0.20666667, 0.20333333,\n",
       "         0.16333333, 0.22333333, 0.14333333, 0.16      , 0.12333333],\n",
       "        [0.2       , 0.14333333, 0.16333333, 0.20666667, 0.20333333,\n",
       "         0.16333333, 0.22333333, 0.14333333, 0.16      , 0.12333333],\n",
       "        [0.2       , 0.14333333, 0.16333333, 0.20666667, 0.20333333,\n",
       "         0.16333333, 0.22333333, 0.14333333, 0.16      , 0.12333333],\n",
       "        [0.2       , 0.14333333, 0.16333333, 0.20666667, 0.20333333,\n",
       "         0.16333333, 0.22333333, 0.14333333, 0.16      , 0.12333333]]),\n",
       " array([], dtype=float64),\n",
       " 1,\n",
       " array([3.00000000e+001, 5.83700565e-016, 8.75811540e-047, 5.48350007e-078,\n",
       "        2.62450743e-109, 5.36630706e-142, 2.95853564e-175, 0.00000000e+000,\n",
       "        0.00000000e+000, 0.00000000e+000]))"
      ]
     },
     "execution_count": 61,
     "metadata": {},
     "output_type": "execute_result"
    }
   ],
   "source": [
    "np.linalg.lstsq(a,b)"
   ]
  },
  {
   "cell_type": "code",
   "execution_count": 62,
   "metadata": {},
   "outputs": [],
   "source": [
    "U, S, Vh = np.linalg.svd(np.random.randint(1, 9, (10, 10, 10)))\n",
    "V = Vh.T"
   ]
  },
  {
   "cell_type": "code",
   "execution_count": 63,
   "metadata": {},
   "outputs": [
    {
     "data": {
      "text/plain": [
       "array([[1.]])"
      ]
     },
     "execution_count": 63,
     "metadata": {},
     "output_type": "execute_result"
    }
   ],
   "source": [
    "np.linalg.cholesky(np.random.randint(1, 2, (1, 1))).T"
   ]
  },
  {
   "cell_type": "code",
   "execution_count": 64,
   "metadata": {},
   "outputs": [],
   "source": [
    "D,V = np.linalg.eig(a)"
   ]
  },
  {
   "cell_type": "code",
   "execution_count": 65,
   "metadata": {},
   "outputs": [],
   "source": [
    "D,V = scipy.linalg.eig(a,b)"
   ]
  },
  {
   "cell_type": "code",
   "execution_count": 66,
   "metadata": {},
   "outputs": [],
   "source": [
    "Q,R = scipy.linalg.qr(a)"
   ]
  },
  {
   "cell_type": "code",
   "execution_count": 67,
   "metadata": {},
   "outputs": [
    {
     "name": "stderr",
     "output_type": "stream",
     "text": [
      "/Users/dingzheyu/anaconda3/lib/python3.6/site-packages/ipykernel_launcher.py:1: LinAlgWarning: Diagonal number 2 is exactly zero. Singular matrix.\n",
      "  \"\"\"Entry point for launching an IPython kernel.\n"
     ]
    }
   ],
   "source": [
    "LU,P = scipy.linalg.lu_factor(a)"
   ]
  },
  {
   "cell_type": "code",
   "execution_count": 68,
   "metadata": {},
   "outputs": [
    {
     "data": {
      "text/plain": [
       "array([[30.+0.j,  0.+0.j,  0.+0.j,  0.+0.j,  0.+0.j,  0.+0.j,  0.+0.j,\n",
       "         0.+0.j,  0.+0.j,  0.+0.j],\n",
       "       [30.+0.j,  0.+0.j,  0.+0.j,  0.+0.j,  0.+0.j,  0.+0.j,  0.+0.j,\n",
       "         0.+0.j,  0.+0.j,  0.+0.j],\n",
       "       [30.+0.j,  0.+0.j,  0.+0.j,  0.+0.j,  0.+0.j,  0.+0.j,  0.+0.j,\n",
       "         0.+0.j,  0.+0.j,  0.+0.j],\n",
       "       [30.+0.j,  0.+0.j,  0.+0.j,  0.+0.j,  0.+0.j,  0.+0.j,  0.+0.j,\n",
       "         0.+0.j,  0.+0.j,  0.+0.j],\n",
       "       [30.+0.j,  0.+0.j,  0.+0.j,  0.+0.j,  0.+0.j,  0.+0.j,  0.+0.j,\n",
       "         0.+0.j,  0.+0.j,  0.+0.j],\n",
       "       [30.+0.j,  0.+0.j,  0.+0.j,  0.+0.j,  0.+0.j,  0.+0.j,  0.+0.j,\n",
       "         0.+0.j,  0.+0.j,  0.+0.j],\n",
       "       [30.+0.j,  0.+0.j,  0.+0.j,  0.+0.j,  0.+0.j,  0.+0.j,  0.+0.j,\n",
       "         0.+0.j,  0.+0.j,  0.+0.j],\n",
       "       [30.+0.j,  0.+0.j,  0.+0.j,  0.+0.j,  0.+0.j,  0.+0.j,  0.+0.j,\n",
       "         0.+0.j,  0.+0.j,  0.+0.j],\n",
       "       [30.+0.j,  0.+0.j,  0.+0.j,  0.+0.j,  0.+0.j,  0.+0.j,  0.+0.j,\n",
       "         0.+0.j,  0.+0.j,  0.+0.j],\n",
       "       [30.+0.j,  0.+0.j,  0.+0.j,  0.+0.j,  0.+0.j,  0.+0.j,  0.+0.j,\n",
       "         0.+0.j,  0.+0.j,  0.+0.j]])"
      ]
     },
     "execution_count": 68,
     "metadata": {},
     "output_type": "execute_result"
    }
   ],
   "source": [
    "np.fft.fft(a)"
   ]
  },
  {
   "cell_type": "code",
   "execution_count": 69,
   "metadata": {},
   "outputs": [
    {
     "data": {
      "text/plain": [
       "array([[3.+0.j, 0.+0.j, 0.+0.j, 0.+0.j, 0.+0.j, 0.+0.j, 0.+0.j, 0.+0.j,\n",
       "        0.+0.j, 0.+0.j],\n",
       "       [3.+0.j, 0.+0.j, 0.+0.j, 0.+0.j, 0.+0.j, 0.+0.j, 0.+0.j, 0.+0.j,\n",
       "        0.+0.j, 0.+0.j],\n",
       "       [3.+0.j, 0.+0.j, 0.+0.j, 0.+0.j, 0.+0.j, 0.+0.j, 0.+0.j, 0.+0.j,\n",
       "        0.+0.j, 0.+0.j],\n",
       "       [3.+0.j, 0.+0.j, 0.+0.j, 0.+0.j, 0.+0.j, 0.+0.j, 0.+0.j, 0.+0.j,\n",
       "        0.+0.j, 0.+0.j],\n",
       "       [3.+0.j, 0.+0.j, 0.+0.j, 0.+0.j, 0.+0.j, 0.+0.j, 0.+0.j, 0.+0.j,\n",
       "        0.+0.j, 0.+0.j],\n",
       "       [3.+0.j, 0.+0.j, 0.+0.j, 0.+0.j, 0.+0.j, 0.+0.j, 0.+0.j, 0.+0.j,\n",
       "        0.+0.j, 0.+0.j],\n",
       "       [3.+0.j, 0.+0.j, 0.+0.j, 0.+0.j, 0.+0.j, 0.+0.j, 0.+0.j, 0.+0.j,\n",
       "        0.+0.j, 0.+0.j],\n",
       "       [3.+0.j, 0.+0.j, 0.+0.j, 0.+0.j, 0.+0.j, 0.+0.j, 0.+0.j, 0.+0.j,\n",
       "        0.+0.j, 0.+0.j],\n",
       "       [3.+0.j, 0.+0.j, 0.+0.j, 0.+0.j, 0.+0.j, 0.+0.j, 0.+0.j, 0.+0.j,\n",
       "        0.+0.j, 0.+0.j],\n",
       "       [3.+0.j, 0.+0.j, 0.+0.j, 0.+0.j, 0.+0.j, 0.+0.j, 0.+0.j, 0.+0.j,\n",
       "        0.+0.j, 0.+0.j]])"
      ]
     },
     "execution_count": 69,
     "metadata": {},
     "output_type": "execute_result"
    }
   ],
   "source": [
    "np.fft.ifft(a)"
   ]
  },
  {
   "cell_type": "code",
   "execution_count": 70,
   "metadata": {},
   "outputs": [
    {
     "data": {
      "text/plain": [
       "array([[3, 3, 3, 3, 3, 3, 3, 3, 3, 3],\n",
       "       [3, 3, 3, 3, 3, 3, 3, 3, 3, 3],\n",
       "       [3, 3, 3, 3, 3, 3, 3, 3, 3, 3],\n",
       "       [3, 3, 3, 3, 3, 3, 3, 3, 3, 3],\n",
       "       [3, 3, 3, 3, 3, 3, 3, 3, 3, 3],\n",
       "       [3, 3, 3, 3, 3, 3, 3, 3, 3, 3],\n",
       "       [3, 3, 3, 3, 3, 3, 3, 3, 3, 3],\n",
       "       [3, 3, 3, 3, 3, 3, 3, 3, 3, 3],\n",
       "       [3, 3, 3, 3, 3, 3, 3, 3, 3, 3],\n",
       "       [3, 3, 3, 3, 3, 3, 3, 3, 3, 3]])"
      ]
     },
     "execution_count": 70,
     "metadata": {},
     "output_type": "execute_result"
    }
   ],
   "source": [
    "np.sort(a)"
   ]
  },
  {
   "cell_type": "code",
   "execution_count": 71,
   "metadata": {},
   "outputs": [],
   "source": [
    "I = np.argsort(a[:,1])"
   ]
  },
  {
   "cell_type": "code",
   "execution_count": 72,
   "metadata": {},
   "outputs": [
    {
     "name": "stderr",
     "output_type": "stream",
     "text": [
      "/Users/dingzheyu/anaconda3/lib/python3.6/site-packages/ipykernel_launcher.py:1: FutureWarning: `rcond` parameter will change to the default of machine precision times ``max(M, N)`` where M and N are the input matrix dimensions.\n",
      "To use the future default and silence this warning we advise to pass `rcond=None`, to keep using the old, explicitly pass `rcond=-1`.\n",
      "  \"\"\"Entry point for launching an IPython kernel.\n"
     ]
    },
    {
     "data": {
      "text/plain": [
       "(array([[0.2       , 0.14333333, 0.16333333, 0.20666667, 0.20333333,\n",
       "         0.16333333, 0.22333333, 0.14333333, 0.16      , 0.12333333],\n",
       "        [0.2       , 0.14333333, 0.16333333, 0.20666667, 0.20333333,\n",
       "         0.16333333, 0.22333333, 0.14333333, 0.16      , 0.12333333],\n",
       "        [0.2       , 0.14333333, 0.16333333, 0.20666667, 0.20333333,\n",
       "         0.16333333, 0.22333333, 0.14333333, 0.16      , 0.12333333],\n",
       "        [0.2       , 0.14333333, 0.16333333, 0.20666667, 0.20333333,\n",
       "         0.16333333, 0.22333333, 0.14333333, 0.16      , 0.12333333],\n",
       "        [0.2       , 0.14333333, 0.16333333, 0.20666667, 0.20333333,\n",
       "         0.16333333, 0.22333333, 0.14333333, 0.16      , 0.12333333],\n",
       "        [0.2       , 0.14333333, 0.16333333, 0.20666667, 0.20333333,\n",
       "         0.16333333, 0.22333333, 0.14333333, 0.16      , 0.12333333],\n",
       "        [0.2       , 0.14333333, 0.16333333, 0.20666667, 0.20333333,\n",
       "         0.16333333, 0.22333333, 0.14333333, 0.16      , 0.12333333],\n",
       "        [0.2       , 0.14333333, 0.16333333, 0.20666667, 0.20333333,\n",
       "         0.16333333, 0.22333333, 0.14333333, 0.16      , 0.12333333],\n",
       "        [0.2       , 0.14333333, 0.16333333, 0.20666667, 0.20333333,\n",
       "         0.16333333, 0.22333333, 0.14333333, 0.16      , 0.12333333],\n",
       "        [0.2       , 0.14333333, 0.16333333, 0.20666667, 0.20333333,\n",
       "         0.16333333, 0.22333333, 0.14333333, 0.16      , 0.12333333]]),\n",
       " array([], dtype=float64),\n",
       " 1,\n",
       " array([3.00000000e+001, 5.83700565e-016, 8.75811540e-047, 5.48350007e-078,\n",
       "        2.62450743e-109, 5.36630706e-142, 2.95853564e-175, 0.00000000e+000,\n",
       "        0.00000000e+000, 0.00000000e+000]))"
      ]
     },
     "execution_count": 72,
     "metadata": {},
     "output_type": "execute_result"
    }
   ],
   "source": [
    "np.linalg.lstsq(a,b)"
   ]
  },
  {
   "cell_type": "code",
   "execution_count": 73,
   "metadata": {},
   "outputs": [
    {
     "data": {
      "text/plain": [
       "array([3])"
      ]
     },
     "execution_count": 73,
     "metadata": {},
     "output_type": "execute_result"
    }
   ],
   "source": [
    "np.unique(a)"
   ]
  },
  {
   "cell_type": "code",
   "execution_count": 74,
   "metadata": {},
   "outputs": [
    {
     "data": {
      "text/plain": [
       "array([[3, 3, 3, 3, 3, 3, 3, 3, 3, 3],\n",
       "       [3, 3, 3, 3, 3, 3, 3, 3, 3, 3],\n",
       "       [3, 3, 3, 3, 3, 3, 3, 3, 3, 3],\n",
       "       [3, 3, 3, 3, 3, 3, 3, 3, 3, 3],\n",
       "       [3, 3, 3, 3, 3, 3, 3, 3, 3, 3],\n",
       "       [3, 3, 3, 3, 3, 3, 3, 3, 3, 3],\n",
       "       [3, 3, 3, 3, 3, 3, 3, 3, 3, 3],\n",
       "       [3, 3, 3, 3, 3, 3, 3, 3, 3, 3],\n",
       "       [3, 3, 3, 3, 3, 3, 3, 3, 3, 3],\n",
       "       [3, 3, 3, 3, 3, 3, 3, 3, 3, 3]])"
      ]
     },
     "execution_count": 74,
     "metadata": {},
     "output_type": "execute_result"
    }
   ],
   "source": [
    "a.squeeze()"
   ]
  },
  {
   "cell_type": "markdown",
   "metadata": {},
   "source": [
    "## Task 3"
   ]
  },
  {
   "cell_type": "code",
   "execution_count": 79,
   "metadata": {},
   "outputs": [
    {
     "data": {
      "image/png": "[encoded data removed]",
      "text/plain": [
       "<Figure size 432x288 with 1 Axes>"
      ]
     },
     "metadata": {},
     "output_type": "display_data"
    }
   ],
   "source": [
    "import matplotlib.pyplot as plt\n",
    "plt.plot([1,2,3,4], [1,2,7,14])\n",
    "plt.axis([0, 6, 0, 20])\n",
    "plt.show()"
   ]
  },
  {
   "cell_type": "markdown",
   "metadata": {},
   "source": [
    "## Task 4"
   ]
  },
  {
   "cell_type": "code",
   "execution_count": 76,
   "metadata": {},
   "outputs": [
    {
     "data": {
      "image/png": "[encoded data removed]",
      "text/plain": [
       "<Figure size 432x288 with 1 Axes>"
      ]
     },
     "metadata": {},
     "output_type": "display_data"
    }
   ],
   "source": [
    "plt.scatter([1,2,3,4], [1,2,7,14])\n",
    "plt.show()"
   ]
  },
  {
   "cell_type": "markdown",
   "metadata": {},
   "source": [
    "## Task 5"
   ]
  },
  {
   "cell_type": "markdown",
   "metadata": {},
   "source": [
    "Acccount name: BenDing96"
   ]
  },
  {
   "cell_type": "markdown",
   "metadata": {},
   "source": [
    "## Task 6"
   ]
  },
  {
   "cell_type": "markdown",
   "metadata": {},
   "source": [
    "https://github.com/BenDing96/Deep-Learning"
   ]
  },
  {
   "cell_type": "code",
   "execution_count": null,
   "metadata": {},
   "outputs": [],
   "source": []
  }
 ],
 "metadata": {
  "kernelspec": {
   "display_name": "Python 3",
   "language": "python",
   "name": "python3"
  },
  "language_info": {
   "codemirror_mode": {
    "name": "ipython",
    "version": 3
   },
   "file_extension": ".py",
   "mimetype": "text/x-python",
   "name": "python",
   "nbconvert_exporter": "python",
   "pygments_lexer": "ipython3",
   "version": "3.11.5"
  }
 },
 "nbformat": 4,
 "nbformat_minor": 2
}
